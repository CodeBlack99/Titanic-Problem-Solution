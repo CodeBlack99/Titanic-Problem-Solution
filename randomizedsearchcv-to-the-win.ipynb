{
 "cells": [
  {
   "cell_type": "code",
   "execution_count": 1,
   "id": "recovered-portsmouth",
   "metadata": {
    "_cell_guid": "b1076dfc-b9ad-4769-8c92-a6c4dae69d19",
    "_uuid": "8f2839f25d086af736a60e9eeb907d3b93b6e0e5",
    "execution": {
     "iopub.execute_input": "2021-10-06T06:24:29.335908Z",
     "iopub.status.busy": "2021-10-06T06:24:29.335151Z",
     "iopub.status.idle": "2021-10-06T06:24:30.066441Z",
     "shell.execute_reply": "2021-10-06T06:24:30.065846Z",
     "shell.execute_reply.started": "2021-10-06T06:22:47.556854Z"
    },
    "papermill": {
     "duration": 0.765291,
     "end_time": "2021-10-06T06:24:30.066594",
     "exception": false,
     "start_time": "2021-10-06T06:24:29.301303",
     "status": "completed"
    },
    "tags": []
   },
   "outputs": [
    {
     "name": "stdout",
     "output_type": "stream",
     "text": [
      "/kaggle/input/titanic/train.csv\n",
      "/kaggle/input/titanic/test.csv\n",
      "/kaggle/input/titanic/gender_submission.csv\n"
     ]
    }
   ],
   "source": [
    "# This Python 3 environment comes with many helpful analytics libraries installed\n",
    "# It is defined by the kaggle/python Docker image: https://github.com/kaggle/docker-python\n",
    "# For example, here's several helpful packages to load\n",
    "\n",
    "import numpy as np # linear algebra\n",
    "import pandas as pd # data processing, CSV file I/O (e.g. pd.read_csv)\n",
    "import matplotlib.pyplot as plt\n",
    "import seaborn as sns\n",
    "\n",
    "# Input data files are available in the read-only \"../input/\" directory\n",
    "# For example, running this (by clicking run or pressing Shift+Enter) will list all files under the input directory\n",
    "\n",
    "import os\n",
    "for dirname, _, filenames in os.walk('/kaggle/input'):\n",
    "    for filename in filenames:\n",
    "        print(os.path.join(dirname, filename))\n",
    "\n",
    "# You can write up to 20GB to the current directory (/kaggle/working/) that gets preserved as output when you create a version using \"Save & Run All\" \n",
    "# You can also write temporary files to /kaggle/temp/, but they won't be saved outside of the current session"
   ]
  },
  {
   "cell_type": "code",
   "execution_count": 2,
   "id": "robust-swedish",
   "metadata": {
    "execution": {
     "iopub.execute_input": "2021-10-06T06:24:30.133325Z",
     "iopub.status.busy": "2021-10-06T06:24:30.132748Z",
     "iopub.status.idle": "2021-10-06T06:24:30.168497Z",
     "shell.execute_reply": "2021-10-06T06:24:30.167204Z",
     "shell.execute_reply.started": "2021-10-06T06:22:47.569508Z"
    },
    "papermill": {
     "duration": 0.070668,
     "end_time": "2021-10-06T06:24:30.168630",
     "exception": false,
     "start_time": "2021-10-06T06:24:30.097962",
     "status": "completed"
    },
    "scrolled": true,
    "tags": []
   },
   "outputs": [
    {
     "data": {
      "text/html": [
       "<div>\n",
       "<style scoped>\n",
       "    .dataframe tbody tr th:only-of-type {\n",
       "        vertical-align: middle;\n",
       "    }\n",
       "\n",
       "    .dataframe tbody tr th {\n",
       "        vertical-align: top;\n",
       "    }\n",
       "\n",
       "    .dataframe thead th {\n",
       "        text-align: right;\n",
       "    }\n",
       "</style>\n",
       "<table border=\"1\" class=\"dataframe\">\n",
       "  <thead>\n",
       "    <tr style=\"text-align: right;\">\n",
       "      <th></th>\n",
       "      <th>PassengerId</th>\n",
       "      <th>Survived</th>\n",
       "      <th>Pclass</th>\n",
       "      <th>Name</th>\n",
       "      <th>Sex</th>\n",
       "      <th>Age</th>\n",
       "      <th>SibSp</th>\n",
       "      <th>Parch</th>\n",
       "      <th>Ticket</th>\n",
       "      <th>Fare</th>\n",
       "      <th>Cabin</th>\n",
       "      <th>Embarked</th>\n",
       "    </tr>\n",
       "  </thead>\n",
       "  <tbody>\n",
       "    <tr>\n",
       "      <th>0</th>\n",
       "      <td>1</td>\n",
       "      <td>0</td>\n",
       "      <td>3</td>\n",
       "      <td>Braund, Mr. Owen Harris</td>\n",
       "      <td>male</td>\n",
       "      <td>22.0</td>\n",
       "      <td>1</td>\n",
       "      <td>0</td>\n",
       "      <td>A/5 21171</td>\n",
       "      <td>7.2500</td>\n",
       "      <td>NaN</td>\n",
       "      <td>S</td>\n",
       "    </tr>\n",
       "    <tr>\n",
       "      <th>1</th>\n",
       "      <td>2</td>\n",
       "      <td>1</td>\n",
       "      <td>1</td>\n",
       "      <td>Cumings, Mrs. John Bradley (Florence Briggs Th...</td>\n",
       "      <td>female</td>\n",
       "      <td>38.0</td>\n",
       "      <td>1</td>\n",
       "      <td>0</td>\n",
       "      <td>PC 17599</td>\n",
       "      <td>71.2833</td>\n",
       "      <td>C85</td>\n",
       "      <td>C</td>\n",
       "    </tr>\n",
       "    <tr>\n",
       "      <th>2</th>\n",
       "      <td>3</td>\n",
       "      <td>1</td>\n",
       "      <td>3</td>\n",
       "      <td>Heikkinen, Miss. Laina</td>\n",
       "      <td>female</td>\n",
       "      <td>26.0</td>\n",
       "      <td>0</td>\n",
       "      <td>0</td>\n",
       "      <td>STON/O2. 3101282</td>\n",
       "      <td>7.9250</td>\n",
       "      <td>NaN</td>\n",
       "      <td>S</td>\n",
       "    </tr>\n",
       "    <tr>\n",
       "      <th>3</th>\n",
       "      <td>4</td>\n",
       "      <td>1</td>\n",
       "      <td>1</td>\n",
       "      <td>Futrelle, Mrs. Jacques Heath (Lily May Peel)</td>\n",
       "      <td>female</td>\n",
       "      <td>35.0</td>\n",
       "      <td>1</td>\n",
       "      <td>0</td>\n",
       "      <td>113803</td>\n",
       "      <td>53.1000</td>\n",
       "      <td>C123</td>\n",
       "      <td>S</td>\n",
       "    </tr>\n",
       "    <tr>\n",
       "      <th>4</th>\n",
       "      <td>5</td>\n",
       "      <td>0</td>\n",
       "      <td>3</td>\n",
       "      <td>Allen, Mr. William Henry</td>\n",
       "      <td>male</td>\n",
       "      <td>35.0</td>\n",
       "      <td>0</td>\n",
       "      <td>0</td>\n",
       "      <td>373450</td>\n",
       "      <td>8.0500</td>\n",
       "      <td>NaN</td>\n",
       "      <td>S</td>\n",
       "    </tr>\n",
       "  </tbody>\n",
       "</table>\n",
       "</div>"
      ],
      "text/plain": [
       "   PassengerId  Survived  Pclass  \\\n",
       "0            1         0       3   \n",
       "1            2         1       1   \n",
       "2            3         1       3   \n",
       "3            4         1       1   \n",
       "4            5         0       3   \n",
       "\n",
       "                                                Name     Sex   Age  SibSp  \\\n",
       "0                            Braund, Mr. Owen Harris    male  22.0      1   \n",
       "1  Cumings, Mrs. John Bradley (Florence Briggs Th...  female  38.0      1   \n",
       "2                             Heikkinen, Miss. Laina  female  26.0      0   \n",
       "3       Futrelle, Mrs. Jacques Heath (Lily May Peel)  female  35.0      1   \n",
       "4                           Allen, Mr. William Henry    male  35.0      0   \n",
       "\n",
       "   Parch            Ticket     Fare Cabin Embarked  \n",
       "0      0         A/5 21171   7.2500   NaN        S  \n",
       "1      0          PC 17599  71.2833   C85        C  \n",
       "2      0  STON/O2. 3101282   7.9250   NaN        S  \n",
       "3      0            113803  53.1000  C123        S  \n",
       "4      0            373450   8.0500   NaN        S  "
      ]
     },
     "execution_count": 2,
     "metadata": {},
     "output_type": "execute_result"
    }
   ],
   "source": [
    "train_data = pd.read_csv(\"/kaggle/input/titanic/train.csv\")\n",
    "train_data.head()"
   ]
  },
  {
   "cell_type": "code",
   "execution_count": 3,
   "id": "coated-gamma",
   "metadata": {
    "execution": {
     "iopub.execute_input": "2021-10-06T06:24:30.233413Z",
     "iopub.status.busy": "2021-10-06T06:24:30.232815Z",
     "iopub.status.idle": "2021-10-06T06:24:30.250523Z",
     "shell.execute_reply": "2021-10-06T06:24:30.251212Z",
     "shell.execute_reply.started": "2021-10-06T06:22:47.599384Z"
    },
    "papermill": {
     "duration": 0.05117,
     "end_time": "2021-10-06T06:24:30.251340",
     "exception": false,
     "start_time": "2021-10-06T06:24:30.200170",
     "status": "completed"
    },
    "tags": []
   },
   "outputs": [
    {
     "data": {
      "text/html": [
       "<div>\n",
       "<style scoped>\n",
       "    .dataframe tbody tr th:only-of-type {\n",
       "        vertical-align: middle;\n",
       "    }\n",
       "\n",
       "    .dataframe tbody tr th {\n",
       "        vertical-align: top;\n",
       "    }\n",
       "\n",
       "    .dataframe thead th {\n",
       "        text-align: right;\n",
       "    }\n",
       "</style>\n",
       "<table border=\"1\" class=\"dataframe\">\n",
       "  <thead>\n",
       "    <tr style=\"text-align: right;\">\n",
       "      <th></th>\n",
       "      <th>PassengerId</th>\n",
       "      <th>Pclass</th>\n",
       "      <th>Name</th>\n",
       "      <th>Sex</th>\n",
       "      <th>Age</th>\n",
       "      <th>SibSp</th>\n",
       "      <th>Parch</th>\n",
       "      <th>Ticket</th>\n",
       "      <th>Fare</th>\n",
       "      <th>Cabin</th>\n",
       "      <th>Embarked</th>\n",
       "    </tr>\n",
       "  </thead>\n",
       "  <tbody>\n",
       "    <tr>\n",
       "      <th>0</th>\n",
       "      <td>892</td>\n",
       "      <td>3</td>\n",
       "      <td>Kelly, Mr. James</td>\n",
       "      <td>male</td>\n",
       "      <td>34.5</td>\n",
       "      <td>0</td>\n",
       "      <td>0</td>\n",
       "      <td>330911</td>\n",
       "      <td>7.8292</td>\n",
       "      <td>NaN</td>\n",
       "      <td>Q</td>\n",
       "    </tr>\n",
       "    <tr>\n",
       "      <th>1</th>\n",
       "      <td>893</td>\n",
       "      <td>3</td>\n",
       "      <td>Wilkes, Mrs. James (Ellen Needs)</td>\n",
       "      <td>female</td>\n",
       "      <td>47.0</td>\n",
       "      <td>1</td>\n",
       "      <td>0</td>\n",
       "      <td>363272</td>\n",
       "      <td>7.0000</td>\n",
       "      <td>NaN</td>\n",
       "      <td>S</td>\n",
       "    </tr>\n",
       "    <tr>\n",
       "      <th>2</th>\n",
       "      <td>894</td>\n",
       "      <td>2</td>\n",
       "      <td>Myles, Mr. Thomas Francis</td>\n",
       "      <td>male</td>\n",
       "      <td>62.0</td>\n",
       "      <td>0</td>\n",
       "      <td>0</td>\n",
       "      <td>240276</td>\n",
       "      <td>9.6875</td>\n",
       "      <td>NaN</td>\n",
       "      <td>Q</td>\n",
       "    </tr>\n",
       "    <tr>\n",
       "      <th>3</th>\n",
       "      <td>895</td>\n",
       "      <td>3</td>\n",
       "      <td>Wirz, Mr. Albert</td>\n",
       "      <td>male</td>\n",
       "      <td>27.0</td>\n",
       "      <td>0</td>\n",
       "      <td>0</td>\n",
       "      <td>315154</td>\n",
       "      <td>8.6625</td>\n",
       "      <td>NaN</td>\n",
       "      <td>S</td>\n",
       "    </tr>\n",
       "    <tr>\n",
       "      <th>4</th>\n",
       "      <td>896</td>\n",
       "      <td>3</td>\n",
       "      <td>Hirvonen, Mrs. Alexander (Helga E Lindqvist)</td>\n",
       "      <td>female</td>\n",
       "      <td>22.0</td>\n",
       "      <td>1</td>\n",
       "      <td>1</td>\n",
       "      <td>3101298</td>\n",
       "      <td>12.2875</td>\n",
       "      <td>NaN</td>\n",
       "      <td>S</td>\n",
       "    </tr>\n",
       "  </tbody>\n",
       "</table>\n",
       "</div>"
      ],
      "text/plain": [
       "   PassengerId  Pclass                                          Name     Sex  \\\n",
       "0          892       3                              Kelly, Mr. James    male   \n",
       "1          893       3              Wilkes, Mrs. James (Ellen Needs)  female   \n",
       "2          894       2                     Myles, Mr. Thomas Francis    male   \n",
       "3          895       3                              Wirz, Mr. Albert    male   \n",
       "4          896       3  Hirvonen, Mrs. Alexander (Helga E Lindqvist)  female   \n",
       "\n",
       "    Age  SibSp  Parch   Ticket     Fare Cabin Embarked  \n",
       "0  34.5      0      0   330911   7.8292   NaN        Q  \n",
       "1  47.0      1      0   363272   7.0000   NaN        S  \n",
       "2  62.0      0      0   240276   9.6875   NaN        Q  \n",
       "3  27.0      0      0   315154   8.6625   NaN        S  \n",
       "4  22.0      1      1  3101298  12.2875   NaN        S  "
      ]
     },
     "execution_count": 3,
     "metadata": {},
     "output_type": "execute_result"
    }
   ],
   "source": [
    "test_data = pd.read_csv(\"/kaggle/input/titanic/test.csv\")\n",
    "test_data.head()"
   ]
  },
  {
   "cell_type": "code",
   "execution_count": 4,
   "id": "classified-appliance",
   "metadata": {
    "execution": {
     "iopub.execute_input": "2021-10-06T06:24:30.318318Z",
     "iopub.status.busy": "2021-10-06T06:24:30.317787Z",
     "iopub.status.idle": "2021-10-06T06:24:30.326213Z",
     "shell.execute_reply": "2021-10-06T06:24:30.325755Z",
     "shell.execute_reply.started": "2021-10-06T06:22:47.623956Z"
    },
    "papermill": {
     "duration": 0.043989,
     "end_time": "2021-10-06T06:24:30.326329",
     "exception": false,
     "start_time": "2021-10-06T06:24:30.282340",
     "status": "completed"
    },
    "tags": []
   },
   "outputs": [],
   "source": [
    "gender_sub = pd.read_csv(\"/kaggle/input/titanic/gender_submission.csv\")"
   ]
  },
  {
   "cell_type": "code",
   "execution_count": 5,
   "id": "sonic-converter",
   "metadata": {
    "execution": {
     "iopub.execute_input": "2021-10-06T06:24:30.392709Z",
     "iopub.status.busy": "2021-10-06T06:24:30.391900Z",
     "iopub.status.idle": "2021-10-06T06:24:30.396779Z",
     "shell.execute_reply": "2021-10-06T06:24:30.397453Z",
     "shell.execute_reply.started": "2021-10-06T06:22:47.633346Z"
    },
    "papermill": {
     "duration": 0.041297,
     "end_time": "2021-10-06T06:24:30.397621",
     "exception": false,
     "start_time": "2021-10-06T06:24:30.356324",
     "status": "completed"
    },
    "tags": []
   },
   "outputs": [
    {
     "name": "stdout",
     "output_type": "stream",
     "text": [
      "(418, 2)\n"
     ]
    },
    {
     "data": {
      "text/html": [
       "<div>\n",
       "<style scoped>\n",
       "    .dataframe tbody tr th:only-of-type {\n",
       "        vertical-align: middle;\n",
       "    }\n",
       "\n",
       "    .dataframe tbody tr th {\n",
       "        vertical-align: top;\n",
       "    }\n",
       "\n",
       "    .dataframe thead th {\n",
       "        text-align: right;\n",
       "    }\n",
       "</style>\n",
       "<table border=\"1\" class=\"dataframe\">\n",
       "  <thead>\n",
       "    <tr style=\"text-align: right;\">\n",
       "      <th></th>\n",
       "      <th>PassengerId</th>\n",
       "      <th>Survived</th>\n",
       "    </tr>\n",
       "  </thead>\n",
       "  <tbody>\n",
       "    <tr>\n",
       "      <th>0</th>\n",
       "      <td>892</td>\n",
       "      <td>0</td>\n",
       "    </tr>\n",
       "    <tr>\n",
       "      <th>1</th>\n",
       "      <td>893</td>\n",
       "      <td>1</td>\n",
       "    </tr>\n",
       "    <tr>\n",
       "      <th>2</th>\n",
       "      <td>894</td>\n",
       "      <td>0</td>\n",
       "    </tr>\n",
       "    <tr>\n",
       "      <th>3</th>\n",
       "      <td>895</td>\n",
       "      <td>0</td>\n",
       "    </tr>\n",
       "    <tr>\n",
       "      <th>4</th>\n",
       "      <td>896</td>\n",
       "      <td>1</td>\n",
       "    </tr>\n",
       "  </tbody>\n",
       "</table>\n",
       "</div>"
      ],
      "text/plain": [
       "   PassengerId  Survived\n",
       "0          892         0\n",
       "1          893         1\n",
       "2          894         0\n",
       "3          895         0\n",
       "4          896         1"
      ]
     },
     "execution_count": 5,
     "metadata": {},
     "output_type": "execute_result"
    }
   ],
   "source": [
    "print(gender_sub.shape)\n",
    "gender_sub.head()"
   ]
  },
  {
   "cell_type": "code",
   "execution_count": 6,
   "id": "meaning-reward",
   "metadata": {
    "execution": {
     "iopub.execute_input": "2021-10-06T06:24:30.462886Z",
     "iopub.status.busy": "2021-10-06T06:24:30.462275Z",
     "iopub.status.idle": "2021-10-06T06:24:30.465726Z",
     "shell.execute_reply": "2021-10-06T06:24:30.466314Z",
     "shell.execute_reply.started": "2021-10-06T06:22:47.648407Z"
    },
    "papermill": {
     "duration": 0.038725,
     "end_time": "2021-10-06T06:24:30.466472",
     "exception": false,
     "start_time": "2021-10-06T06:24:30.427747",
     "status": "completed"
    },
    "tags": []
   },
   "outputs": [
    {
     "name": "stdout",
     "output_type": "stream",
     "text": [
      "0      0\n",
      "1      1\n",
      "2      0\n",
      "3      0\n",
      "4      1\n",
      "      ..\n",
      "413    0\n",
      "414    1\n",
      "415    0\n",
      "416    0\n",
      "417    0\n",
      "Name: Survived, Length: 418, dtype: int64\n"
     ]
    }
   ],
   "source": [
    "y_test = gender_sub.iloc[: , 1]\n",
    "print(y_test)"
   ]
  },
  {
   "cell_type": "code",
   "execution_count": 7,
   "id": "another-purse",
   "metadata": {
    "execution": {
     "iopub.execute_input": "2021-10-06T06:24:30.535191Z",
     "iopub.status.busy": "2021-10-06T06:24:30.534599Z",
     "iopub.status.idle": "2021-10-06T06:24:30.545249Z",
     "shell.execute_reply": "2021-10-06T06:24:30.544639Z",
     "shell.execute_reply.started": "2021-10-06T06:22:47.658340Z"
    },
    "papermill": {
     "duration": 0.046918,
     "end_time": "2021-10-06T06:24:30.545398",
     "exception": false,
     "start_time": "2021-10-06T06:24:30.498480",
     "status": "completed"
    },
    "tags": []
   },
   "outputs": [
    {
     "name": "stdout",
     "output_type": "stream",
     "text": [
      "(891, 12)\n",
      "(891, 11)\n",
      "(418, 11)\n"
     ]
    }
   ],
   "source": [
    "x = train_data.iloc[: , :]\n",
    "print(x.shape)\n",
    "x = train_data.drop([\"Survived\"], axis= 1)\n",
    "y = train_data[\"Survived\"]\n",
    "x.head()\n",
    "x_test = test_data.iloc[: , :]\n",
    "print(x.shape)\n",
    "print(x_test.shape)"
   ]
  },
  {
   "cell_type": "code",
   "execution_count": 8,
   "id": "dutch-sixth",
   "metadata": {
    "execution": {
     "iopub.execute_input": "2021-10-06T06:24:30.612779Z",
     "iopub.status.busy": "2021-10-06T06:24:30.611945Z",
     "iopub.status.idle": "2021-10-06T06:24:30.615196Z",
     "shell.execute_reply": "2021-10-06T06:24:30.615597Z",
     "shell.execute_reply.started": "2021-10-06T06:22:47.671760Z"
    },
    "papermill": {
     "duration": 0.038683,
     "end_time": "2021-10-06T06:24:30.615728",
     "exception": false,
     "start_time": "2021-10-06T06:24:30.577045",
     "status": "completed"
    },
    "tags": []
   },
   "outputs": [
    {
     "data": {
      "text/plain": [
       "0    0\n",
       "1    1\n",
       "2    1\n",
       "3    1\n",
       "4    0\n",
       "Name: Survived, dtype: int64"
      ]
     },
     "execution_count": 8,
     "metadata": {},
     "output_type": "execute_result"
    }
   ],
   "source": [
    "y.head()"
   ]
  },
  {
   "cell_type": "code",
   "execution_count": 9,
   "id": "appreciated-caribbean",
   "metadata": {
    "_kg_hide-input": true,
    "execution": {
     "iopub.execute_input": "2021-10-06T06:24:30.687039Z",
     "iopub.status.busy": "2021-10-06T06:24:30.686212Z",
     "iopub.status.idle": "2021-10-06T06:24:30.984539Z",
     "shell.execute_reply": "2021-10-06T06:24:30.983684Z",
     "shell.execute_reply.started": "2021-10-06T06:22:47.684489Z"
    },
    "papermill": {
     "duration": 0.336704,
     "end_time": "2021-10-06T06:24:30.984663",
     "exception": false,
     "start_time": "2021-10-06T06:24:30.647959",
     "status": "completed"
    },
    "tags": []
   },
   "outputs": [
    {
     "data": {
      "text/plain": [
       "<AxesSubplot:>"
      ]
     },
     "execution_count": 9,
     "metadata": {},
     "output_type": "execute_result"
    },
    {
     "data": {
      "image/png": "[encoded data removed]",
      "text/plain": [
       "<Figure size 432x288 with 2 Axes>"
      ]
     },
     "metadata": {
      "needs_background": "light"
     },
     "output_type": "display_data"
    }
   ],
   "source": [
    "analisys_df = train_data.drop(['PassengerId', 'Survived', 'Name', 'Ticket', 'Cabin', 'Embarked'], axis = 1)\n",
    "\n",
    "corr = train_data.corr()\n",
    "sns.heatmap(corr)"
   ]
  },
  {
   "cell_type": "code",
   "execution_count": 10,
   "id": "increased-label",
   "metadata": {
    "execution": {
     "iopub.execute_input": "2021-10-06T06:24:31.057212Z",
     "iopub.status.busy": "2021-10-06T06:24:31.054963Z",
     "iopub.status.idle": "2021-10-06T06:24:31.156374Z",
     "shell.execute_reply": "2021-10-06T06:24:31.155894Z",
     "shell.execute_reply.started": "2021-10-06T06:22:47.991839Z"
    },
    "papermill": {
     "duration": 0.139978,
     "end_time": "2021-10-06T06:24:31.156500",
     "exception": false,
     "start_time": "2021-10-06T06:24:31.016522",
     "status": "completed"
    },
    "tags": []
   },
   "outputs": [
    {
     "data": {
      "text/plain": [
       "<AxesSubplot:xlabel='Sex', ylabel='count'>"
      ]
     },
     "execution_count": 10,
     "metadata": {},
     "output_type": "execute_result"
    },
    {
     "data": {
      "image/png": "[encoded data removed]",
      "text/plain": [
       "<Figure size 432x288 with 1 Axes>"
      ]
     },
     "metadata": {
      "needs_background": "light"
     },
     "output_type": "display_data"
    }
   ],
   "source": [
    "sns.countplot(x = 'Sex', data = train_data)"
   ]
  },
  {
   "cell_type": "code",
   "execution_count": 11,
   "id": "manual-princess",
   "metadata": {
    "execution": {
     "iopub.execute_input": "2021-10-06T06:24:31.228761Z",
     "iopub.status.busy": "2021-10-06T06:24:31.227984Z",
     "iopub.status.idle": "2021-10-06T06:24:41.707683Z",
     "shell.execute_reply": "2021-10-06T06:24:41.706688Z",
     "shell.execute_reply.started": "2021-10-06T06:22:48.100044Z"
    },
    "papermill": {
     "duration": 10.517692,
     "end_time": "2021-10-06T06:24:41.707808",
     "exception": false,
     "start_time": "2021-10-06T06:24:31.190116",
     "status": "completed"
    },
    "tags": []
   },
   "outputs": [
    {
     "name": "stderr",
     "output_type": "stream",
     "text": [
      "/opt/conda/lib/python3.7/site-packages/seaborn/categorical.py:1296: UserWarning: 91.3% of the points cannot be placed; you may want to decrease the size of the markers or use stripplot.\n",
      "  warnings.warn(msg, UserWarning)\n",
      "/opt/conda/lib/python3.7/site-packages/seaborn/categorical.py:1296: UserWarning: 84.1% of the points cannot be placed; you may want to decrease the size of the markers or use stripplot.\n",
      "  warnings.warn(msg, UserWarning)\n"
     ]
    },
    {
     "data": {
      "text/plain": [
       "<AxesSubplot:xlabel='Sex', ylabel='Survived'>"
      ]
     },
     "execution_count": 11,
     "metadata": {},
     "output_type": "execute_result"
    },
    {
     "data": {
      "image/png": "[encoded data removed]",
      "text/plain": [
       "<Figure size 432x288 with 1 Axes>"
      ]
     },
     "metadata": {
      "needs_background": "light"
     },
     "output_type": "display_data"
    }
   ],
   "source": [
    "sns.swarmplot(x='Sex', y = 'Survived', data=train_data,\n",
    "           hue='Pclass')"
   ]
  },
  {
   "cell_type": "code",
   "execution_count": 12,
   "id": "bound-louis",
   "metadata": {
    "execution": {
     "iopub.execute_input": "2021-10-06T06:24:41.784256Z",
     "iopub.status.busy": "2021-10-06T06:24:41.783320Z",
     "iopub.status.idle": "2021-10-06T06:24:41.887693Z",
     "shell.execute_reply": "2021-10-06T06:24:41.887266Z",
     "shell.execute_reply.started": "2021-10-06T06:22:58.077830Z"
    },
    "papermill": {
     "duration": 0.145368,
     "end_time": "2021-10-06T06:24:41.887819",
     "exception": false,
     "start_time": "2021-10-06T06:24:41.742451",
     "status": "completed"
    },
    "tags": []
   },
   "outputs": [
    {
     "data": {
      "text/plain": [
       "<AxesSubplot:xlabel='Embarked', ylabel='count'>"
      ]
     },
     "execution_count": 12,
     "metadata": {},
     "output_type": "execute_result"
    },
    {
     "data": {
      "image/png": "[encoded data removed]",
      "text/plain": [
       "<Figure size 432x288 with 1 Axes>"
      ]
     },
     "metadata": {
      "needs_background": "light"
     },
     "output_type": "display_data"
    }
   ],
   "source": [
    "sns.countplot(x = 'Embarked', data = train_data)"
   ]
  },
  {
   "cell_type": "code",
   "execution_count": 13,
   "id": "painted-farmer",
   "metadata": {
    "execution": {
     "iopub.execute_input": "2021-10-06T06:24:41.961371Z",
     "iopub.status.busy": "2021-10-06T06:24:41.960872Z",
     "iopub.status.idle": "2021-10-06T06:24:42.146638Z",
     "shell.execute_reply": "2021-10-06T06:24:42.147050Z",
     "shell.execute_reply.started": "2021-10-06T06:22:58.200905Z"
    },
    "papermill": {
     "duration": 0.224488,
     "end_time": "2021-10-06T06:24:42.147207",
     "exception": false,
     "start_time": "2021-10-06T06:24:41.922719",
     "status": "completed"
    },
    "tags": []
   },
   "outputs": [
    {
     "name": "stderr",
     "output_type": "stream",
     "text": [
      "/opt/conda/lib/python3.7/site-packages/seaborn/distributions.py:2557: FutureWarning: `distplot` is a deprecated function and will be removed in a future version. Please adapt your code to use either `displot` (a figure-level function with similar flexibility) or `histplot` (an axes-level function for histograms).\n",
      "  warnings.warn(msg, FutureWarning)\n"
     ]
    },
    {
     "data": {
      "text/plain": [
       "<AxesSubplot:xlabel='Age', ylabel='Density'>"
      ]
     },
     "execution_count": 13,
     "metadata": {},
     "output_type": "execute_result"
    },
    {
     "data": {
      "image/png": "[encoded data removed]",
      "text/plain": [
       "<Figure size 432x288 with 1 Axes>"
      ]
     },
     "metadata": {
      "needs_background": "light"
     },
     "output_type": "display_data"
    }
   ],
   "source": [
    "sns.distplot(analisys_df.Age)"
   ]
  },
  {
   "cell_type": "code",
   "execution_count": 14,
   "id": "local-influence",
   "metadata": {
    "execution": {
     "iopub.execute_input": "2021-10-06T06:24:42.239152Z",
     "iopub.status.busy": "2021-10-06T06:24:42.238350Z",
     "iopub.status.idle": "2021-10-06T06:24:42.416641Z",
     "shell.execute_reply": "2021-10-06T06:24:42.417065Z",
     "shell.execute_reply.started": "2021-10-06T06:22:58.375537Z"
    },
    "papermill": {
     "duration": 0.233285,
     "end_time": "2021-10-06T06:24:42.417223",
     "exception": false,
     "start_time": "2021-10-06T06:24:42.183938",
     "status": "completed"
    },
    "tags": []
   },
   "outputs": [
    {
     "data": {
      "text/plain": [
       "(1.0, 180.0)"
      ]
     },
     "execution_count": 14,
     "metadata": {},
     "output_type": "execute_result"
    },
    {
     "data": {
      "image/png": "[encoded data removed]",
      "text/plain": [
       "<Figure size 432x720 with 1 Axes>"
      ]
     },
     "metadata": {
      "needs_background": "light"
     },
     "output_type": "display_data"
    }
   ],
   "source": [
    "fig, ax = plt.subplots(figsize=(6,10))\n",
    "sns.boxplot(data = analisys_df)\n",
    "plt.ylim(1,180)"
   ]
  },
  {
   "cell_type": "code",
   "execution_count": 15,
   "id": "genuine-increase",
   "metadata": {
    "execution": {
     "iopub.execute_input": "2021-10-06T06:24:42.498408Z",
     "iopub.status.busy": "2021-10-06T06:24:42.497596Z",
     "iopub.status.idle": "2021-10-06T06:24:42.837589Z",
     "shell.execute_reply": "2021-10-06T06:24:42.838026Z",
     "shell.execute_reply.started": "2021-10-06T06:22:58.565465Z"
    },
    "papermill": {
     "duration": 0.383642,
     "end_time": "2021-10-06T06:24:42.838203",
     "exception": false,
     "start_time": "2021-10-06T06:24:42.454561",
     "status": "completed"
    },
    "tags": []
   },
   "outputs": [
    {
     "data": {
      "text/plain": [
       "<seaborn.axisgrid.FacetGrid at 0x7fe8d2f6d6d0>"
      ]
     },
     "execution_count": 15,
     "metadata": {},
     "output_type": "execute_result"
    },
    {
     "data": {
      "image/png": "[encoded data removed]",
      "text/plain": [
       "<Figure size 411.875x360 with 1 Axes>"
      ]
     },
     "metadata": {
      "needs_background": "light"
     },
     "output_type": "display_data"
    }
   ],
   "source": [
    "sns.lmplot(x='Sex', y = 'Age', data=train_data,\n",
    "           fit_reg=False, \n",
    "           hue='Survived')"
   ]
  },
  {
   "cell_type": "code",
   "execution_count": 16,
   "id": "third-annual",
   "metadata": {
    "execution": {
     "iopub.execute_input": "2021-10-06T06:24:42.936872Z",
     "iopub.status.busy": "2021-10-06T06:24:42.936008Z",
     "iopub.status.idle": "2021-10-06T06:24:43.341996Z",
     "shell.execute_reply": "2021-10-06T06:24:43.341578Z",
     "shell.execute_reply.started": "2021-10-06T06:22:58.913463Z"
    },
    "papermill": {
     "duration": 0.463762,
     "end_time": "2021-10-06T06:24:43.342116",
     "exception": false,
     "start_time": "2021-10-06T06:24:42.878354",
     "status": "completed"
    },
    "tags": []
   },
   "outputs": [
    {
     "data": {
      "text/plain": [
       "(0.0, 250.0)"
      ]
     },
     "execution_count": 16,
     "metadata": {},
     "output_type": "execute_result"
    },
    {
     "data": {
      "image/png": "[encoded data removed]",
      "text/plain": [
       "<Figure size 360x360 with 1 Axes>"
      ]
     },
     "metadata": {
      "needs_background": "light"
     },
     "output_type": "display_data"
    }
   ],
   "source": [
    "sns.lmplot(x = 'Pclass', y = 'Fare', data = analisys_df)\n",
    "\n",
    "plt.xlim(0,3)\n",
    "plt.ylim(0,250)"
   ]
  },
  {
   "cell_type": "code",
   "execution_count": 17,
   "id": "loving-acrobat",
   "metadata": {
    "execution": {
     "iopub.execute_input": "2021-10-06T06:24:43.431007Z",
     "iopub.status.busy": "2021-10-06T06:24:43.430328Z",
     "iopub.status.idle": "2021-10-06T06:24:43.434052Z",
     "shell.execute_reply": "2021-10-06T06:24:43.434601Z",
     "shell.execute_reply.started": "2021-10-06T06:22:59.326809Z"
    },
    "papermill": {
     "duration": 0.052803,
     "end_time": "2021-10-06T06:24:43.434784",
     "exception": false,
     "start_time": "2021-10-06T06:24:43.381981",
     "status": "completed"
    },
    "tags": []
   },
   "outputs": [
    {
     "name": "stdout",
     "output_type": "stream",
     "text": [
      "Age         177\n",
      "Cabin       687\n",
      "Embarked      2\n",
      "dtype: int64\n",
      "Age       86\n",
      "Fare       1\n",
      "Cabin    327\n",
      "dtype: int64\n"
     ]
    }
   ],
   "source": [
    "missing_val = train_data.isnull().sum()\n",
    "missing_val_test = test_data.isnull().sum()\n",
    "print(missing_val[missing_val > 0])\n",
    "print(missing_val_test[missing_val_test > 0])\n",
    "\n",
    "x = x.drop([\"Cabin\"], axis = 1)\n"
   ]
  },
  {
   "cell_type": "code",
   "execution_count": 18,
   "id": "polished-happiness",
   "metadata": {
    "execution": {
     "iopub.execute_input": "2021-10-06T06:24:43.529055Z",
     "iopub.status.busy": "2021-10-06T06:24:43.528085Z",
     "iopub.status.idle": "2021-10-06T06:24:43.531867Z",
     "shell.execute_reply": "2021-10-06T06:24:43.532258Z",
     "shell.execute_reply.started": "2021-10-06T06:22:59.343448Z"
    },
    "papermill": {
     "duration": 0.057724,
     "end_time": "2021-10-06T06:24:43.532406",
     "exception": false,
     "start_time": "2021-10-06T06:24:43.474682",
     "status": "completed"
    },
    "tags": []
   },
   "outputs": [
    {
     "data": {
      "text/html": [
       "<div>\n",
       "<style scoped>\n",
       "    .dataframe tbody tr th:only-of-type {\n",
       "        vertical-align: middle;\n",
       "    }\n",
       "\n",
       "    .dataframe tbody tr th {\n",
       "        vertical-align: top;\n",
       "    }\n",
       "\n",
       "    .dataframe thead th {\n",
       "        text-align: right;\n",
       "    }\n",
       "</style>\n",
       "<table border=\"1\" class=\"dataframe\">\n",
       "  <thead>\n",
       "    <tr style=\"text-align: right;\">\n",
       "      <th></th>\n",
       "      <th>PassengerId</th>\n",
       "      <th>Pclass</th>\n",
       "      <th>Name</th>\n",
       "      <th>Sex</th>\n",
       "      <th>Age</th>\n",
       "      <th>SibSp</th>\n",
       "      <th>Parch</th>\n",
       "      <th>Fare</th>\n",
       "      <th>Embarked</th>\n",
       "    </tr>\n",
       "  </thead>\n",
       "  <tbody>\n",
       "    <tr>\n",
       "      <th>0</th>\n",
       "      <td>1</td>\n",
       "      <td>3</td>\n",
       "      <td>Braund, Mr. Owen Harris</td>\n",
       "      <td>male</td>\n",
       "      <td>22.0</td>\n",
       "      <td>1</td>\n",
       "      <td>0</td>\n",
       "      <td>7.2500</td>\n",
       "      <td>S</td>\n",
       "    </tr>\n",
       "    <tr>\n",
       "      <th>1</th>\n",
       "      <td>2</td>\n",
       "      <td>1</td>\n",
       "      <td>Cumings, Mrs. John Bradley (Florence Briggs Th...</td>\n",
       "      <td>female</td>\n",
       "      <td>38.0</td>\n",
       "      <td>1</td>\n",
       "      <td>0</td>\n",
       "      <td>71.2833</td>\n",
       "      <td>C</td>\n",
       "    </tr>\n",
       "    <tr>\n",
       "      <th>2</th>\n",
       "      <td>3</td>\n",
       "      <td>3</td>\n",
       "      <td>Heikkinen, Miss. Laina</td>\n",
       "      <td>female</td>\n",
       "      <td>26.0</td>\n",
       "      <td>0</td>\n",
       "      <td>0</td>\n",
       "      <td>7.9250</td>\n",
       "      <td>S</td>\n",
       "    </tr>\n",
       "    <tr>\n",
       "      <th>3</th>\n",
       "      <td>4</td>\n",
       "      <td>1</td>\n",
       "      <td>Futrelle, Mrs. Jacques Heath (Lily May Peel)</td>\n",
       "      <td>female</td>\n",
       "      <td>35.0</td>\n",
       "      <td>1</td>\n",
       "      <td>0</td>\n",
       "      <td>53.1000</td>\n",
       "      <td>S</td>\n",
       "    </tr>\n",
       "    <tr>\n",
       "      <th>4</th>\n",
       "      <td>5</td>\n",
       "      <td>3</td>\n",
       "      <td>Allen, Mr. William Henry</td>\n",
       "      <td>male</td>\n",
       "      <td>35.0</td>\n",
       "      <td>0</td>\n",
       "      <td>0</td>\n",
       "      <td>8.0500</td>\n",
       "      <td>S</td>\n",
       "    </tr>\n",
       "  </tbody>\n",
       "</table>\n",
       "</div>"
      ],
      "text/plain": [
       "   PassengerId  Pclass                                               Name  \\\n",
       "0            1       3                            Braund, Mr. Owen Harris   \n",
       "1            2       1  Cumings, Mrs. John Bradley (Florence Briggs Th...   \n",
       "2            3       3                             Heikkinen, Miss. Laina   \n",
       "3            4       1       Futrelle, Mrs. Jacques Heath (Lily May Peel)   \n",
       "4            5       3                           Allen, Mr. William Henry   \n",
       "\n",
       "      Sex   Age  SibSp  Parch     Fare Embarked  \n",
       "0    male  22.0      1      0   7.2500        S  \n",
       "1  female  38.0      1      0  71.2833        C  \n",
       "2  female  26.0      0      0   7.9250        S  \n",
       "3  female  35.0      1      0  53.1000        S  \n",
       "4    male  35.0      0      0   8.0500        S  "
      ]
     },
     "execution_count": 18,
     "metadata": {},
     "output_type": "execute_result"
    }
   ],
   "source": [
    "x = x.drop([\"Ticket\"], axis =1)\n",
    "x.head()"
   ]
  },
  {
   "cell_type": "markdown",
   "id": "ready-journal",
   "metadata": {
    "papermill": {
     "duration": 0.041031,
     "end_time": "2021-10-06T06:24:43.615489",
     "exception": false,
     "start_time": "2021-10-06T06:24:43.574458",
     "status": "completed"
    },
    "tags": []
   },
   "source": []
  },
  {
   "cell_type": "markdown",
   "id": "uniform-edition",
   "metadata": {
    "papermill": {
     "duration": 0.03961,
     "end_time": "2021-10-06T06:24:43.695770",
     "exception": false,
     "start_time": "2021-10-06T06:24:43.656160",
     "status": "completed"
    },
    "tags": []
   },
   "source": []
  },
  {
   "cell_type": "code",
   "execution_count": 19,
   "id": "stopped-confirmation",
   "metadata": {
    "execution": {
     "iopub.execute_input": "2021-10-06T06:24:43.782250Z",
     "iopub.status.busy": "2021-10-06T06:24:43.781546Z",
     "iopub.status.idle": "2021-10-06T06:24:43.784430Z",
     "shell.execute_reply": "2021-10-06T06:24:43.784002Z",
     "shell.execute_reply.started": "2021-10-06T06:22:59.363643Z"
    },
    "papermill": {
     "duration": 0.04922,
     "end_time": "2021-10-06T06:24:43.784536",
     "exception": false,
     "start_time": "2021-10-06T06:24:43.735316",
     "status": "completed"
    },
    "tags": []
   },
   "outputs": [],
   "source": [
    "x['Family'] = x['Parch'] + x['SibSp']\n",
    "x = x.drop([\"Parch\",  \"SibSp\"], axis = 1)"
   ]
  },
  {
   "cell_type": "code",
   "execution_count": 20,
   "id": "exciting-program",
   "metadata": {
    "execution": {
     "iopub.execute_input": "2021-10-06T06:24:43.870118Z",
     "iopub.status.busy": "2021-10-06T06:24:43.869475Z",
     "iopub.status.idle": "2021-10-06T06:24:43.873235Z",
     "shell.execute_reply": "2021-10-06T06:24:43.872719Z",
     "shell.execute_reply.started": "2021-10-06T06:22:59.373225Z"
    },
    "papermill": {
     "duration": 0.04881,
     "end_time": "2021-10-06T06:24:43.873349",
     "exception": false,
     "start_time": "2021-10-06T06:24:43.824539",
     "status": "completed"
    },
    "tags": []
   },
   "outputs": [
    {
     "name": "stdout",
     "output_type": "stream",
     "text": [
      "(891, 5)\n"
     ]
    }
   ],
   "source": [
    "x = x.drop([\"Pclass\", \"PassengerId\", \"Name\"], axis = 1)\n",
    "\n",
    "print(x.shape)"
   ]
  },
  {
   "cell_type": "code",
   "execution_count": 21,
   "id": "brilliant-liquid",
   "metadata": {
    "execution": {
     "iopub.execute_input": "2021-10-06T06:24:43.960234Z",
     "iopub.status.busy": "2021-10-06T06:24:43.959619Z",
     "iopub.status.idle": "2021-10-06T06:24:43.962552Z",
     "shell.execute_reply": "2021-10-06T06:24:43.962128Z",
     "shell.execute_reply.started": "2021-10-06T06:22:59.385196Z"
    },
    "papermill": {
     "duration": 0.049361,
     "end_time": "2021-10-06T06:24:43.962657",
     "exception": false,
     "start_time": "2021-10-06T06:24:43.913296",
     "status": "completed"
    },
    "tags": []
   },
   "outputs": [],
   "source": [
    "x_test['Family'] = test_data['Parch'] + test_data['SibSp']\n",
    "x_test = test_data.drop(['Pclass', 'Name', 'Parch', 'SibSp', 'Cabin', 'Ticket', 'PassengerId'], axis = 1)"
   ]
  },
  {
   "cell_type": "code",
   "execution_count": 22,
   "id": "informative-france",
   "metadata": {
    "execution": {
     "iopub.execute_input": "2021-10-06T06:24:44.046884Z",
     "iopub.status.busy": "2021-10-06T06:24:44.046205Z",
     "iopub.status.idle": "2021-10-06T06:24:44.049606Z",
     "shell.execute_reply": "2021-10-06T06:24:44.050024Z",
     "shell.execute_reply.started": "2021-10-06T06:22:59.395948Z"
    },
    "papermill": {
     "duration": 0.047833,
     "end_time": "2021-10-06T06:24:44.050162",
     "exception": false,
     "start_time": "2021-10-06T06:24:44.002329",
     "status": "completed"
    },
    "tags": []
   },
   "outputs": [
    {
     "name": "stdout",
     "output_type": "stream",
     "text": [
      "(418, 5)\n",
      "(891, 5)\n"
     ]
    }
   ],
   "source": [
    "print(x_test.shape)\n",
    "print(x.shape)"
   ]
  },
  {
   "cell_type": "code",
   "execution_count": 23,
   "id": "overall-senior",
   "metadata": {
    "execution": {
     "iopub.execute_input": "2021-10-06T06:24:44.142452Z",
     "iopub.status.busy": "2021-10-06T06:24:44.141457Z",
     "iopub.status.idle": "2021-10-06T06:24:44.145776Z",
     "shell.execute_reply": "2021-10-06T06:24:44.146257Z",
     "shell.execute_reply.started": "2021-10-06T06:22:59.404499Z"
    },
    "papermill": {
     "duration": 0.055554,
     "end_time": "2021-10-06T06:24:44.146415",
     "exception": false,
     "start_time": "2021-10-06T06:24:44.090861",
     "status": "completed"
    },
    "tags": []
   },
   "outputs": [
    {
     "data": {
      "text/html": [
       "<div>\n",
       "<style scoped>\n",
       "    .dataframe tbody tr th:only-of-type {\n",
       "        vertical-align: middle;\n",
       "    }\n",
       "\n",
       "    .dataframe tbody tr th {\n",
       "        vertical-align: top;\n",
       "    }\n",
       "\n",
       "    .dataframe thead th {\n",
       "        text-align: right;\n",
       "    }\n",
       "</style>\n",
       "<table border=\"1\" class=\"dataframe\">\n",
       "  <thead>\n",
       "    <tr style=\"text-align: right;\">\n",
       "      <th></th>\n",
       "      <th>Sex</th>\n",
       "      <th>Age</th>\n",
       "      <th>Fare</th>\n",
       "      <th>Embarked</th>\n",
       "      <th>Family</th>\n",
       "    </tr>\n",
       "  </thead>\n",
       "  <tbody>\n",
       "    <tr>\n",
       "      <th>0</th>\n",
       "      <td>male</td>\n",
       "      <td>22.0</td>\n",
       "      <td>7.2500</td>\n",
       "      <td>S</td>\n",
       "      <td>1</td>\n",
       "    </tr>\n",
       "    <tr>\n",
       "      <th>1</th>\n",
       "      <td>female</td>\n",
       "      <td>38.0</td>\n",
       "      <td>71.2833</td>\n",
       "      <td>C</td>\n",
       "      <td>1</td>\n",
       "    </tr>\n",
       "    <tr>\n",
       "      <th>2</th>\n",
       "      <td>female</td>\n",
       "      <td>26.0</td>\n",
       "      <td>7.9250</td>\n",
       "      <td>S</td>\n",
       "      <td>0</td>\n",
       "    </tr>\n",
       "    <tr>\n",
       "      <th>3</th>\n",
       "      <td>female</td>\n",
       "      <td>35.0</td>\n",
       "      <td>53.1000</td>\n",
       "      <td>S</td>\n",
       "      <td>1</td>\n",
       "    </tr>\n",
       "    <tr>\n",
       "      <th>4</th>\n",
       "      <td>male</td>\n",
       "      <td>35.0</td>\n",
       "      <td>8.0500</td>\n",
       "      <td>S</td>\n",
       "      <td>0</td>\n",
       "    </tr>\n",
       "  </tbody>\n",
       "</table>\n",
       "</div>"
      ],
      "text/plain": [
       "      Sex   Age     Fare Embarked  Family\n",
       "0    male  22.0   7.2500        S       1\n",
       "1  female  38.0  71.2833        C       1\n",
       "2  female  26.0   7.9250        S       0\n",
       "3  female  35.0  53.1000        S       1\n",
       "4    male  35.0   8.0500        S       0"
      ]
     },
     "execution_count": 23,
     "metadata": {},
     "output_type": "execute_result"
    }
   ],
   "source": [
    "x.head()"
   ]
  },
  {
   "cell_type": "code",
   "execution_count": 24,
   "id": "dense-norway",
   "metadata": {
    "execution": {
     "iopub.execute_input": "2021-10-06T06:24:44.241513Z",
     "iopub.status.busy": "2021-10-06T06:24:44.240593Z",
     "iopub.status.idle": "2021-10-06T06:24:44.244716Z",
     "shell.execute_reply": "2021-10-06T06:24:44.244324Z",
     "shell.execute_reply.started": "2021-10-06T06:22:59.423140Z"
    },
    "papermill": {
     "duration": 0.05358,
     "end_time": "2021-10-06T06:24:44.244833",
     "exception": false,
     "start_time": "2021-10-06T06:24:44.191253",
     "status": "completed"
    },
    "tags": []
   },
   "outputs": [
    {
     "data": {
      "text/html": [
       "<div>\n",
       "<style scoped>\n",
       "    .dataframe tbody tr th:only-of-type {\n",
       "        vertical-align: middle;\n",
       "    }\n",
       "\n",
       "    .dataframe tbody tr th {\n",
       "        vertical-align: top;\n",
       "    }\n",
       "\n",
       "    .dataframe thead th {\n",
       "        text-align: right;\n",
       "    }\n",
       "</style>\n",
       "<table border=\"1\" class=\"dataframe\">\n",
       "  <thead>\n",
       "    <tr style=\"text-align: right;\">\n",
       "      <th></th>\n",
       "      <th>Sex</th>\n",
       "      <th>Age</th>\n",
       "      <th>Fare</th>\n",
       "      <th>Embarked</th>\n",
       "      <th>Family</th>\n",
       "    </tr>\n",
       "  </thead>\n",
       "  <tbody>\n",
       "    <tr>\n",
       "      <th>0</th>\n",
       "      <td>male</td>\n",
       "      <td>34.5</td>\n",
       "      <td>7.8292</td>\n",
       "      <td>Q</td>\n",
       "      <td>0</td>\n",
       "    </tr>\n",
       "    <tr>\n",
       "      <th>1</th>\n",
       "      <td>female</td>\n",
       "      <td>47.0</td>\n",
       "      <td>7.0000</td>\n",
       "      <td>S</td>\n",
       "      <td>1</td>\n",
       "    </tr>\n",
       "    <tr>\n",
       "      <th>2</th>\n",
       "      <td>male</td>\n",
       "      <td>62.0</td>\n",
       "      <td>9.6875</td>\n",
       "      <td>Q</td>\n",
       "      <td>0</td>\n",
       "    </tr>\n",
       "    <tr>\n",
       "      <th>3</th>\n",
       "      <td>male</td>\n",
       "      <td>27.0</td>\n",
       "      <td>8.6625</td>\n",
       "      <td>S</td>\n",
       "      <td>0</td>\n",
       "    </tr>\n",
       "    <tr>\n",
       "      <th>4</th>\n",
       "      <td>female</td>\n",
       "      <td>22.0</td>\n",
       "      <td>12.2875</td>\n",
       "      <td>S</td>\n",
       "      <td>2</td>\n",
       "    </tr>\n",
       "  </tbody>\n",
       "</table>\n",
       "</div>"
      ],
      "text/plain": [
       "      Sex   Age     Fare Embarked  Family\n",
       "0    male  34.5   7.8292        Q       0\n",
       "1  female  47.0   7.0000        S       1\n",
       "2    male  62.0   9.6875        Q       0\n",
       "3    male  27.0   8.6625        S       0\n",
       "4  female  22.0  12.2875        S       2"
      ]
     },
     "execution_count": 24,
     "metadata": {},
     "output_type": "execute_result"
    }
   ],
   "source": [
    "x_test.head()"
   ]
  },
  {
   "cell_type": "code",
   "execution_count": 25,
   "id": "sharp-tsunami",
   "metadata": {
    "execution": {
     "iopub.execute_input": "2021-10-06T06:24:44.336582Z",
     "iopub.status.busy": "2021-10-06T06:24:44.335991Z",
     "iopub.status.idle": "2021-10-06T06:24:44.475597Z",
     "shell.execute_reply": "2021-10-06T06:24:44.476083Z",
     "shell.execute_reply.started": "2021-10-06T06:22:59.437495Z"
    },
    "papermill": {
     "duration": 0.189353,
     "end_time": "2021-10-06T06:24:44.476356",
     "exception": false,
     "start_time": "2021-10-06T06:24:44.287003",
     "status": "completed"
    },
    "tags": []
   },
   "outputs": [],
   "source": [
    "from sklearn.compose import ColumnTransformer\n",
    "from sklearn.preprocessing import OrdinalEncoder\n",
    "from sklearn.preprocessing import OneHotEncoder\n",
    "\n",
    "oe = ColumnTransformer(transformers = [(\"encoder\", OrdinalEncoder(), [0])], remainder= \"passthrough\")\n",
    "\n",
    "x = np.array(oe.fit_transform(x))"
   ]
  },
  {
   "cell_type": "code",
   "execution_count": 26,
   "id": "statistical-outreach",
   "metadata": {
    "execution": {
     "iopub.execute_input": "2021-10-06T06:24:44.566900Z",
     "iopub.status.busy": "2021-10-06T06:24:44.566167Z",
     "iopub.status.idle": "2021-10-06T06:24:44.568970Z",
     "shell.execute_reply": "2021-10-06T06:24:44.568570Z",
     "shell.execute_reply.started": "2021-10-06T06:22:59.451742Z"
    },
    "papermill": {
     "duration": 0.051064,
     "end_time": "2021-10-06T06:24:44.569078",
     "exception": false,
     "start_time": "2021-10-06T06:24:44.518014",
     "status": "completed"
    },
    "tags": []
   },
   "outputs": [],
   "source": [
    "x_test = np.array(oe.fit_transform(x_test))"
   ]
  },
  {
   "cell_type": "code",
   "execution_count": 27,
   "id": "crucial-division",
   "metadata": {
    "execution": {
     "iopub.execute_input": "2021-10-06T06:24:44.655969Z",
     "iopub.status.busy": "2021-10-06T06:24:44.655196Z",
     "iopub.status.idle": "2021-10-06T06:24:44.659047Z",
     "shell.execute_reply": "2021-10-06T06:24:44.658607Z",
     "shell.execute_reply.started": "2021-10-06T06:22:59.462181Z"
    },
    "papermill": {
     "duration": 0.04897,
     "end_time": "2021-10-06T06:24:44.659169",
     "exception": false,
     "start_time": "2021-10-06T06:24:44.610199",
     "status": "completed"
    },
    "tags": []
   },
   "outputs": [
    {
     "name": "stdout",
     "output_type": "stream",
     "text": [
      "(891, 5)\n",
      "(418, 5)\n"
     ]
    }
   ],
   "source": [
    "print(x.shape)\n",
    "print(x_test.shape)"
   ]
  },
  {
   "cell_type": "code",
   "execution_count": 28,
   "id": "otherwise-assets",
   "metadata": {
    "execution": {
     "iopub.execute_input": "2021-10-06T06:24:44.749516Z",
     "iopub.status.busy": "2021-10-06T06:24:44.748922Z",
     "iopub.status.idle": "2021-10-06T06:24:44.752060Z",
     "shell.execute_reply": "2021-10-06T06:24:44.751547Z",
     "shell.execute_reply.started": "2021-10-06T06:22:59.473114Z"
    },
    "papermill": {
     "duration": 0.050471,
     "end_time": "2021-10-06T06:24:44.752178",
     "exception": false,
     "start_time": "2021-10-06T06:24:44.701707",
     "status": "completed"
    },
    "tags": []
   },
   "outputs": [],
   "source": [
    "ohe = ColumnTransformer(transformers = [(\"encoder\", OneHotEncoder(), [3])], remainder = 'passthrough')\n",
    "\n",
    "x = np.array(ohe.fit_transform(x))"
   ]
  },
  {
   "cell_type": "code",
   "execution_count": 29,
   "id": "golden-watershed",
   "metadata": {
    "execution": {
     "iopub.execute_input": "2021-10-06T06:24:44.841073Z",
     "iopub.status.busy": "2021-10-06T06:24:44.840399Z",
     "iopub.status.idle": "2021-10-06T06:24:44.843279Z",
     "shell.execute_reply": "2021-10-06T06:24:44.843702Z",
     "shell.execute_reply.started": "2021-10-06T06:22:59.484322Z"
    },
    "papermill": {
     "duration": 0.050431,
     "end_time": "2021-10-06T06:24:44.843825",
     "exception": false,
     "start_time": "2021-10-06T06:24:44.793394",
     "status": "completed"
    },
    "tags": []
   },
   "outputs": [],
   "source": [
    "x_test = np.array(ohe.transform(x_test))"
   ]
  },
  {
   "cell_type": "code",
   "execution_count": 30,
   "id": "advanced-orange",
   "metadata": {
    "execution": {
     "iopub.execute_input": "2021-10-06T06:24:44.932031Z",
     "iopub.status.busy": "2021-10-06T06:24:44.931354Z",
     "iopub.status.idle": "2021-10-06T06:24:44.935268Z",
     "shell.execute_reply": "2021-10-06T06:24:44.935982Z",
     "shell.execute_reply.started": "2021-10-06T06:22:59.494270Z"
    },
    "papermill": {
     "duration": 0.049542,
     "end_time": "2021-10-06T06:24:44.936187",
     "exception": false,
     "start_time": "2021-10-06T06:24:44.886645",
     "status": "completed"
    },
    "tags": []
   },
   "outputs": [
    {
     "name": "stdout",
     "output_type": "stream",
     "text": [
      "(891, 8)\n",
      "(418, 8)\n"
     ]
    }
   ],
   "source": [
    "print(x.shape)\n",
    "print(x_test.shape)"
   ]
  },
  {
   "cell_type": "code",
   "execution_count": 31,
   "id": "appreciated-satisfaction",
   "metadata": {
    "execution": {
     "iopub.execute_input": "2021-10-06T06:24:45.025651Z",
     "iopub.status.busy": "2021-10-06T06:24:45.024998Z",
     "iopub.status.idle": "2021-10-06T06:24:45.281452Z",
     "shell.execute_reply": "2021-10-06T06:24:45.280828Z",
     "shell.execute_reply.started": "2021-10-06T06:22:59.501998Z"
    },
    "papermill": {
     "duration": 0.303051,
     "end_time": "2021-10-06T06:24:45.281599",
     "exception": false,
     "start_time": "2021-10-06T06:24:44.978548",
     "status": "completed"
    },
    "tags": []
   },
   "outputs": [],
   "source": [
    "from sklearn.impute import SimpleImputer \n",
    "\n",
    "imputer = SimpleImputer(missing_values = np.nan, strategy = 'mean')\n",
    "\n",
    "imputed_X_train = pd.DataFrame(imputer.fit_transform(x))\n"
   ]
  },
  {
   "cell_type": "code",
   "execution_count": 32,
   "id": "average-three",
   "metadata": {
    "execution": {
     "iopub.execute_input": "2021-10-06T06:24:45.437188Z",
     "iopub.status.busy": "2021-10-06T06:24:45.436362Z",
     "iopub.status.idle": "2021-10-06T06:24:45.438540Z",
     "shell.execute_reply": "2021-10-06T06:24:45.437858Z",
     "shell.execute_reply.started": "2021-10-06T06:22:59.513530Z"
    },
    "papermill": {
     "duration": 0.090866,
     "end_time": "2021-10-06T06:24:45.438705",
     "exception": false,
     "start_time": "2021-10-06T06:24:45.347839",
     "status": "completed"
    },
    "tags": []
   },
   "outputs": [],
   "source": [
    "imputer_X_test = pd.DataFrame(imputer.fit_transform(x_test))"
   ]
  },
  {
   "cell_type": "code",
   "execution_count": 33,
   "id": "general-distributor",
   "metadata": {
    "execution": {
     "iopub.execute_input": "2021-10-06T06:24:45.580521Z",
     "iopub.status.busy": "2021-10-06T06:24:45.577567Z",
     "iopub.status.idle": "2021-10-06T06:24:45.594412Z",
     "shell.execute_reply": "2021-10-06T06:24:45.595053Z",
     "shell.execute_reply.started": "2021-10-06T06:22:59.522358Z"
    },
    "papermill": {
     "duration": 0.089867,
     "end_time": "2021-10-06T06:24:45.595233",
     "exception": false,
     "start_time": "2021-10-06T06:24:45.505366",
     "status": "completed"
    },
    "tags": []
   },
   "outputs": [
    {
     "data": {
      "text/html": [
       "<div>\n",
       "<style scoped>\n",
       "    .dataframe tbody tr th:only-of-type {\n",
       "        vertical-align: middle;\n",
       "    }\n",
       "\n",
       "    .dataframe tbody tr th {\n",
       "        vertical-align: top;\n",
       "    }\n",
       "\n",
       "    .dataframe thead th {\n",
       "        text-align: right;\n",
       "    }\n",
       "</style>\n",
       "<table border=\"1\" class=\"dataframe\">\n",
       "  <thead>\n",
       "    <tr style=\"text-align: right;\">\n",
       "      <th></th>\n",
       "      <th>0</th>\n",
       "      <th>1</th>\n",
       "      <th>2</th>\n",
       "      <th>3</th>\n",
       "      <th>4</th>\n",
       "      <th>5</th>\n",
       "      <th>6</th>\n",
       "      <th>7</th>\n",
       "    </tr>\n",
       "  </thead>\n",
       "  <tbody>\n",
       "    <tr>\n",
       "      <th>0</th>\n",
       "      <td>0.0</td>\n",
       "      <td>0.0</td>\n",
       "      <td>1.0</td>\n",
       "      <td>0.0</td>\n",
       "      <td>1.0</td>\n",
       "      <td>22.0</td>\n",
       "      <td>7.2500</td>\n",
       "      <td>1.0</td>\n",
       "    </tr>\n",
       "    <tr>\n",
       "      <th>1</th>\n",
       "      <td>1.0</td>\n",
       "      <td>0.0</td>\n",
       "      <td>0.0</td>\n",
       "      <td>0.0</td>\n",
       "      <td>0.0</td>\n",
       "      <td>38.0</td>\n",
       "      <td>71.2833</td>\n",
       "      <td>1.0</td>\n",
       "    </tr>\n",
       "    <tr>\n",
       "      <th>2</th>\n",
       "      <td>0.0</td>\n",
       "      <td>0.0</td>\n",
       "      <td>1.0</td>\n",
       "      <td>0.0</td>\n",
       "      <td>0.0</td>\n",
       "      <td>26.0</td>\n",
       "      <td>7.9250</td>\n",
       "      <td>0.0</td>\n",
       "    </tr>\n",
       "    <tr>\n",
       "      <th>3</th>\n",
       "      <td>0.0</td>\n",
       "      <td>0.0</td>\n",
       "      <td>1.0</td>\n",
       "      <td>0.0</td>\n",
       "      <td>0.0</td>\n",
       "      <td>35.0</td>\n",
       "      <td>53.1000</td>\n",
       "      <td>1.0</td>\n",
       "    </tr>\n",
       "    <tr>\n",
       "      <th>4</th>\n",
       "      <td>0.0</td>\n",
       "      <td>0.0</td>\n",
       "      <td>1.0</td>\n",
       "      <td>0.0</td>\n",
       "      <td>1.0</td>\n",
       "      <td>35.0</td>\n",
       "      <td>8.0500</td>\n",
       "      <td>0.0</td>\n",
       "    </tr>\n",
       "  </tbody>\n",
       "</table>\n",
       "</div>"
      ],
      "text/plain": [
       "     0    1    2    3    4     5        6    7\n",
       "0  0.0  0.0  1.0  0.0  1.0  22.0   7.2500  1.0\n",
       "1  1.0  0.0  0.0  0.0  0.0  38.0  71.2833  1.0\n",
       "2  0.0  0.0  1.0  0.0  0.0  26.0   7.9250  0.0\n",
       "3  0.0  0.0  1.0  0.0  0.0  35.0  53.1000  1.0\n",
       "4  0.0  0.0  1.0  0.0  1.0  35.0   8.0500  0.0"
      ]
     },
     "execution_count": 33,
     "metadata": {},
     "output_type": "execute_result"
    }
   ],
   "source": [
    "imputed_X_train.head()"
   ]
  },
  {
   "cell_type": "code",
   "execution_count": 34,
   "id": "convertible-advancement",
   "metadata": {
    "execution": {
     "iopub.execute_input": "2021-10-06T06:24:45.738244Z",
     "iopub.status.busy": "2021-10-06T06:24:45.737610Z",
     "iopub.status.idle": "2021-10-06T06:24:45.740791Z",
     "shell.execute_reply": "2021-10-06T06:24:45.741379Z",
     "shell.execute_reply.started": "2021-10-06T06:22:59.539291Z"
    },
    "papermill": {
     "duration": 0.07663,
     "end_time": "2021-10-06T06:24:45.741554",
     "exception": false,
     "start_time": "2021-10-06T06:24:45.664924",
     "status": "completed"
    },
    "tags": []
   },
   "outputs": [],
   "source": [
    "imputed_X_train = imputed_X_train.astype('float64')\n",
    "imputer_X_test = imputer_X_test.astype('float64')"
   ]
  },
  {
   "cell_type": "markdown",
   "id": "indonesian-township",
   "metadata": {
    "papermill": {
     "duration": 0.069317,
     "end_time": "2021-10-06T06:24:45.879704",
     "exception": false,
     "start_time": "2021-10-06T06:24:45.810387",
     "status": "completed"
    },
    "tags": []
   },
   "source": []
  },
  {
   "cell_type": "code",
   "execution_count": 35,
   "id": "fantastic-richmond",
   "metadata": {
    "execution": {
     "iopub.execute_input": "2021-10-06T06:24:45.978259Z",
     "iopub.status.busy": "2021-10-06T06:24:45.976907Z",
     "iopub.status.idle": "2021-10-06T06:24:45.980696Z",
     "shell.execute_reply": "2021-10-06T06:24:45.980057Z",
     "shell.execute_reply.started": "2021-10-06T06:22:59.547860Z"
    },
    "papermill": {
     "duration": 0.051067,
     "end_time": "2021-10-06T06:24:45.980840",
     "exception": false,
     "start_time": "2021-10-06T06:24:45.929773",
     "status": "completed"
    },
    "tags": []
   },
   "outputs": [
    {
     "name": "stdout",
     "output_type": "stream",
     "text": [
      "(891, 8)\n",
      "(418, 8)\n"
     ]
    }
   ],
   "source": [
    "print(imputed_X_train.shape)\n",
    "print(imputer_X_test.shape)"
   ]
  },
  {
   "cell_type": "code",
   "execution_count": 36,
   "id": "black-olympus",
   "metadata": {
    "execution": {
     "iopub.execute_input": "2021-10-06T06:24:46.073278Z",
     "iopub.status.busy": "2021-10-06T06:24:46.072401Z",
     "iopub.status.idle": "2021-10-06T06:24:46.079301Z",
     "shell.execute_reply": "2021-10-06T06:24:46.078790Z",
     "shell.execute_reply.started": "2021-10-06T06:22:59.556599Z"
    },
    "papermill": {
     "duration": 0.055133,
     "end_time": "2021-10-06T06:24:46.079408",
     "exception": false,
     "start_time": "2021-10-06T06:24:46.024275",
     "status": "completed"
    },
    "tags": []
   },
   "outputs": [],
   "source": [
    "from sklearn.preprocessing import StandardScaler \n",
    "sc = StandardScaler()\n",
    "imputed_X_train = sc.fit_transform(imputed_X_train)\n",
    "imputer_X_test = sc.transform(imputer_X_test)"
   ]
  },
  {
   "cell_type": "code",
   "execution_count": 37,
   "id": "protective-discovery",
   "metadata": {
    "execution": {
     "iopub.execute_input": "2021-10-06T06:24:46.171318Z",
     "iopub.status.busy": "2021-10-06T06:24:46.170714Z",
     "iopub.status.idle": "2021-10-06T06:24:46.467617Z",
     "shell.execute_reply": "2021-10-06T06:24:46.466785Z",
     "shell.execute_reply.started": "2021-10-06T06:22:59.575348Z"
    },
    "papermill": {
     "duration": 0.344289,
     "end_time": "2021-10-06T06:24:46.467761",
     "exception": false,
     "start_time": "2021-10-06T06:24:46.123472",
     "status": "completed"
    },
    "tags": []
   },
   "outputs": [
    {
     "data": {
      "text/html": [
       "<style type='text/css'>\n",
       ".datatable table.frame { margin-bottom: 0; }\n",
       ".datatable table.frame thead { border-bottom: none; }\n",
       ".datatable table.frame tr.coltypes td {  color: #FFFFFF;  line-height: 6px;  padding: 0 0.5em;}\n",
       ".datatable .bool    { background: #DDDD99; }\n",
       ".datatable .object  { background: #565656; }\n",
       ".datatable .int     { background: #5D9E5D; }\n",
       ".datatable .float   { background: #4040CC; }\n",
       ".datatable .str     { background: #CC4040; }\n",
       ".datatable .row_index {  background: var(--jp-border-color3);  border-right: 1px solid var(--jp-border-color0);  color: var(--jp-ui-font-color3);  font-size: 9px;}\n",
       ".datatable .frame tr.coltypes .row_index {  background: var(--jp-border-color0);}\n",
       ".datatable th:nth-child(2) { padding-left: 12px; }\n",
       ".datatable .hellipsis {  color: var(--jp-cell-editor-border-color);}\n",
       ".datatable .vellipsis {  background: var(--jp-layout-color0);  color: var(--jp-cell-editor-border-color);}\n",
       ".datatable .na {  color: var(--jp-cell-editor-border-color);  font-size: 80%;}\n",
       ".datatable .footer { font-size: 9px; }\n",
       ".datatable .frame_dimensions {  background: var(--jp-border-color3);  border-top: 1px solid var(--jp-border-color0);  color: var(--jp-ui-font-color3);  display: inline-block;  opacity: 0.6;  padding: 1px 10px 1px 5px;}\n",
       "</style>\n"
      ],
      "text/plain": [
       "<IPython.core.display.HTML object>"
      ]
     },
     "metadata": {},
     "output_type": "display_data"
    }
   ],
   "source": [
    "from sklearn.svm import SVC\n",
    "from sklearn.neighbors import KNeighborsClassifier\n",
    "import lightgbm as lgbm\n",
    "from sklearn.ensemble import GradientBoostingClassifier\n",
    "\n",
    "classifier = GradientBoostingClassifier(random_state = 0,learning_rate = 0.04, n_estimators = 100, subsample = 0.8)\n",
    "\n",
    "classifier.fit(imputed_X_train, y)\n",
    "\n",
    "prediction = classifier.predict(imputer_X_test)"
   ]
  },
  {
   "cell_type": "code",
   "execution_count": 38,
   "id": "unnecessary-magnet",
   "metadata": {
    "execution": {
     "iopub.execute_input": "2021-10-06T06:24:46.560211Z",
     "iopub.status.busy": "2021-10-06T06:24:46.559545Z",
     "iopub.status.idle": "2021-10-06T06:24:46.568878Z",
     "shell.execute_reply": "2021-10-06T06:24:46.569512Z",
     "shell.execute_reply.started": "2021-10-06T06:22:59.698945Z"
    },
    "papermill": {
     "duration": 0.058686,
     "end_time": "2021-10-06T06:24:46.569683",
     "exception": false,
     "start_time": "2021-10-06T06:24:46.510997",
     "status": "completed"
    },
    "tags": []
   },
   "outputs": [
    {
     "name": "stdout",
     "output_type": "stream",
     "text": [
      "[[256  10]\n",
      " [  9 143]]\n"
     ]
    },
    {
     "data": {
      "text/plain": [
       "0.9545454545454546"
      ]
     },
     "execution_count": 38,
     "metadata": {},
     "output_type": "execute_result"
    }
   ],
   "source": [
    "from sklearn.metrics import confusion_matrix, accuracy_score\n",
    "\n",
    "cm = confusion_matrix(y_test, prediction)\n",
    "print(cm)\n",
    "accuracy_score(y_test, prediction)"
   ]
  },
  {
   "cell_type": "code",
   "execution_count": 39,
   "id": "directed-begin",
   "metadata": {
    "execution": {
     "iopub.execute_input": "2021-10-06T06:24:46.661095Z",
     "iopub.status.busy": "2021-10-06T06:24:46.660537Z",
     "iopub.status.idle": "2021-10-06T06:24:46.795177Z",
     "shell.execute_reply": "2021-10-06T06:24:46.794652Z",
     "shell.execute_reply.started": "2021-10-06T06:22:59.711181Z"
    },
    "papermill": {
     "duration": 0.182358,
     "end_time": "2021-10-06T06:24:46.795330",
     "exception": false,
     "start_time": "2021-10-06T06:24:46.612972",
     "status": "completed"
    },
    "tags": []
   },
   "outputs": [],
   "source": [
    "output = pd.DataFrame({'PassengerId' : test_data.PassengerId, 'Survived' : prediction})\n",
    "output.to_csv(\"my_submission.csv\", index = False)"
   ]
  },
  {
   "cell_type": "markdown",
   "id": "further-legislature",
   "metadata": {
    "papermill": {
     "duration": 0.044238,
     "end_time": "2021-10-06T06:24:46.888221",
     "exception": false,
     "start_time": "2021-10-06T06:24:46.843983",
     "status": "completed"
    },
    "tags": []
   },
   "source": [
    "Please share your opinion and/or tips. Looking forward to getting better 😀"
   ]
  },
  {
   "cell_type": "markdown",
   "id": "educated-zealand",
   "metadata": {
    "papermill": {
     "duration": 0.042948,
     "end_time": "2021-10-06T06:24:46.975013",
     "exception": false,
     "start_time": "2021-10-06T06:24:46.932065",
     "status": "completed"
    },
    "tags": []
   },
   "source": []
  },
  {
   "cell_type": "markdown",
   "id": "diagnostic-billion",
   "metadata": {
    "papermill": {
     "duration": 0.043492,
     "end_time": "2021-10-06T06:24:47.061673",
     "exception": false,
     "start_time": "2021-10-06T06:24:47.018181",
     "status": "completed"
    },
    "tags": []
   },
   "source": [
    " "
   ]
  }
 ],
 "metadata": {
  "kernelspec": {
   "display_name": "Python 3",
   "language": "python",
   "name": "python3"
  },
  "language_info": {
   "codemirror_mode": {
    "name": "ipython",
    "version": 3
   },
   "file_extension": ".py",
   "mimetype": "text/x-python",
   "name": "python",
   "nbconvert_exporter": "python",
   "pygments_lexer": "ipython3",
   "version": "3.7.9"
  },
  "papermill": {
   "default_parameters": {},
   "duration": 23.20242,
   "end_time": "2021-10-06T06:24:47.713731",
   "environment_variables": {},
   "exception": null,
   "input_path": "__notebook__.ipynb",
   "output_path": "__notebook__.ipynb",
   "parameters": {},
   "start_time": "2021-10-06T06:24:24.511311",
   "version": "2.3.2"
  }
 },
 "nbformat": 4,
 "nbformat_minor": 5
}
