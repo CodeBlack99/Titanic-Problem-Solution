{
 "cells": [
  {
   "cell_type": "code",
   "execution_count": 1,
   "id": "219504e2",
   "metadata": {
    "_cell_guid": "b1076dfc-b9ad-4769-8c92-a6c4dae69d19",
    "_uuid": "8f2839f25d086af736a60e9eeb907d3b93b6e0e5",
    "execution": {
     "iopub.execute_input": "2021-11-30T21:15:00.176565Z",
     "iopub.status.busy": "2021-11-30T21:15:00.175033Z",
     "iopub.status.idle": "2021-11-30T21:15:00.903894Z",
     "shell.execute_reply": "2021-11-30T21:15:00.903170Z",
     "shell.execute_reply.started": "2021-11-30T20:32:07.626506Z"
    },
    "papermill": {
     "duration": 0.748048,
     "end_time": "2021-11-30T21:15:00.904134",
     "exception": false,
     "start_time": "2021-11-30T21:15:00.156086",
     "status": "completed"
    },
    "tags": []
   },
   "outputs": [
    {
     "name": "stdout",
     "output_type": "stream",
     "text": [
      "/kaggle/input/tabular-playground-series-nov-2021/sample_submission.csv\n",
      "/kaggle/input/tabular-playground-series-nov-2021/train.csv\n",
      "/kaggle/input/tabular-playground-series-nov-2021/test.csv\n"
     ]
    }
   ],
   "source": [
    "# This Python 3 environment comes with many helpful analytics libraries installed\n",
    "# It is defined by the kaggle/python Docker image: https://github.com/kaggle/docker-python\n",
    "# For example, here's several helpful packages to load\n",
    "\n",
    "import numpy as np # linear algebra\n",
    "import pandas as pd # data processing, CSV file I/O (e.g. pd.read_csv)\n",
    "import matplotlib.pyplot as plt \n",
    "import seaborn as sns\n",
    "\n",
    "# Input data files are available in the read-only \"../input/\" directory\n",
    "# For example, running this (by clicking run or pressing Shift+Enter) will list all files under the input directory\n",
    "\n",
    "import os\n",
    "for dirname, _, filenames in os.walk('/kaggle/input'):\n",
    "    for filename in filenames:\n",
    "        print(os.path.join(dirname, filename))\n",
    "\n",
    "# You can write up to 20GB to the current directory (/kaggle/working/) that gets preserved as output when you create a version using \"Save & Run All\" \n",
    "# You can also write temporary files to /kaggle/temp/, but they won't be saved outside of the current session"
   ]
  },
  {
   "cell_type": "code",
   "execution_count": 2,
   "id": "af119c3e",
   "metadata": {
    "execution": {
     "iopub.execute_input": "2021-11-30T21:15:00.934335Z",
     "iopub.status.busy": "2021-11-30T21:15:00.933822Z",
     "iopub.status.idle": "2021-11-30T21:15:27.568099Z",
     "shell.execute_reply": "2021-11-30T21:15:27.567598Z",
     "shell.execute_reply.started": "2021-11-30T20:32:08.380939Z"
    },
    "papermill": {
     "duration": 26.650487,
     "end_time": "2021-11-30T21:15:27.568239",
     "exception": false,
     "start_time": "2021-11-30T21:15:00.917752",
     "status": "completed"
    },
    "tags": []
   },
   "outputs": [],
   "source": [
    "train_data = pd.read_csv('../input/tabular-playground-series-nov-2021/train.csv')\n",
    "test_data = pd.read_csv('../input/tabular-playground-series-nov-2021/test.csv')\n",
    "sample_sub_data = pd.read_csv('../input/tabular-playground-series-nov-2021/sample_submission.csv')"
   ]
  },
  {
   "cell_type": "code",
   "execution_count": 3,
   "id": "f959c6bc",
   "metadata": {
    "execution": {
     "iopub.execute_input": "2021-11-30T21:15:27.600221Z",
     "iopub.status.busy": "2021-11-30T21:15:27.599615Z",
     "iopub.status.idle": "2021-11-30T21:15:27.602569Z",
     "shell.execute_reply": "2021-11-30T21:15:27.602983Z",
     "shell.execute_reply.started": "2021-11-30T20:32:35.455878Z"
    },
    "papermill": {
     "duration": 0.022034,
     "end_time": "2021-11-30T21:15:27.603112",
     "exception": false,
     "start_time": "2021-11-30T21:15:27.581078",
     "status": "completed"
    },
    "tags": []
   },
   "outputs": [
    {
     "data": {
      "text/plain": [
       "(600000, 102)"
      ]
     },
     "execution_count": 3,
     "metadata": {},
     "output_type": "execute_result"
    }
   ],
   "source": [
    "train_data.shape"
   ]
  },
  {
   "cell_type": "code",
   "execution_count": 4,
   "id": "cc09c8a9",
   "metadata": {
    "execution": {
     "iopub.execute_input": "2021-11-30T21:15:27.633558Z",
     "iopub.status.busy": "2021-11-30T21:15:27.630421Z",
     "iopub.status.idle": "2021-11-30T21:15:27.635944Z",
     "shell.execute_reply": "2021-11-30T21:15:27.636367Z",
     "shell.execute_reply.started": "2021-11-30T20:32:35.466254Z"
    },
    "papermill": {
     "duration": 0.020854,
     "end_time": "2021-11-30T21:15:27.636488",
     "exception": false,
     "start_time": "2021-11-30T21:15:27.615634",
     "status": "completed"
    },
    "tags": []
   },
   "outputs": [
    {
     "data": {
      "text/plain": [
       "(540000, 2)"
      ]
     },
     "execution_count": 4,
     "metadata": {},
     "output_type": "execute_result"
    }
   ],
   "source": [
    "sample_sub_data.shape"
   ]
  },
  {
   "cell_type": "code",
   "execution_count": 5,
   "id": "9f44177d",
   "metadata": {
    "execution": {
     "iopub.execute_input": "2021-11-30T21:15:27.689168Z",
     "iopub.status.busy": "2021-11-30T21:15:27.687905Z",
     "iopub.status.idle": "2021-11-30T21:15:27.778506Z",
     "shell.execute_reply": "2021-11-30T21:15:27.778916Z",
     "shell.execute_reply.started": "2021-11-30T20:32:35.478998Z"
    },
    "papermill": {
     "duration": 0.129759,
     "end_time": "2021-11-30T21:15:27.779052",
     "exception": false,
     "start_time": "2021-11-30T21:15:27.649293",
     "status": "completed"
    },
    "tags": []
   },
   "outputs": [
    {
     "data": {
      "text/html": [
       "<div>\n",
       "<style scoped>\n",
       "    .dataframe tbody tr th:only-of-type {\n",
       "        vertical-align: middle;\n",
       "    }\n",
       "\n",
       "    .dataframe tbody tr th {\n",
       "        vertical-align: top;\n",
       "    }\n",
       "\n",
       "    .dataframe thead th {\n",
       "        text-align: right;\n",
       "    }\n",
       "</style>\n",
       "<table border=\"1\" class=\"dataframe\">\n",
       "  <thead>\n",
       "    <tr style=\"text-align: right;\">\n",
       "      <th></th>\n",
       "      <th>id</th>\n",
       "      <th>f0</th>\n",
       "      <th>f1</th>\n",
       "      <th>f2</th>\n",
       "      <th>f3</th>\n",
       "      <th>f4</th>\n",
       "      <th>f5</th>\n",
       "      <th>f6</th>\n",
       "      <th>f7</th>\n",
       "      <th>f8</th>\n",
       "      <th>...</th>\n",
       "      <th>f90</th>\n",
       "      <th>f91</th>\n",
       "      <th>f92</th>\n",
       "      <th>f93</th>\n",
       "      <th>f94</th>\n",
       "      <th>f95</th>\n",
       "      <th>f96</th>\n",
       "      <th>f97</th>\n",
       "      <th>f98</th>\n",
       "      <th>f99</th>\n",
       "    </tr>\n",
       "  </thead>\n",
       "  <tbody>\n",
       "    <tr>\n",
       "      <th>0</th>\n",
       "      <td>600000</td>\n",
       "      <td>0.003229</td>\n",
       "      <td>4.838660</td>\n",
       "      <td>585.5290</td>\n",
       "      <td>2.282910</td>\n",
       "      <td>0.713180</td>\n",
       "      <td>3.907830</td>\n",
       "      <td>0.480696</td>\n",
       "      <td>1.482270</td>\n",
       "      <td>4.891810</td>\n",
       "      <td>...</td>\n",
       "      <td>0.112910</td>\n",
       "      <td>1.073550</td>\n",
       "      <td>0.122149</td>\n",
       "      <td>0.086330</td>\n",
       "      <td>0.036010</td>\n",
       "      <td>0.010619</td>\n",
       "      <td>0.290343</td>\n",
       "      <td>1.898200</td>\n",
       "      <td>0.131533</td>\n",
       "      <td>0.012047</td>\n",
       "    </tr>\n",
       "    <tr>\n",
       "      <th>1</th>\n",
       "      <td>600001</td>\n",
       "      <td>0.008602</td>\n",
       "      <td>0.505536</td>\n",
       "      <td>-100.0990</td>\n",
       "      <td>3.012670</td>\n",
       "      <td>0.027199</td>\n",
       "      <td>1.194610</td>\n",
       "      <td>5.036620</td>\n",
       "      <td>2.517440</td>\n",
       "      <td>4.553890</td>\n",
       "      <td>...</td>\n",
       "      <td>-0.020214</td>\n",
       "      <td>2.622340</td>\n",
       "      <td>0.123307</td>\n",
       "      <td>0.033063</td>\n",
       "      <td>0.123059</td>\n",
       "      <td>0.005771</td>\n",
       "      <td>-0.392923</td>\n",
       "      <td>3.689640</td>\n",
       "      <td>0.047418</td>\n",
       "      <td>0.120015</td>\n",
       "    </tr>\n",
       "    <tr>\n",
       "      <th>2</th>\n",
       "      <td>600002</td>\n",
       "      <td>1.461000</td>\n",
       "      <td>2.437260</td>\n",
       "      <td>-112.9640</td>\n",
       "      <td>3.541230</td>\n",
       "      <td>0.752338</td>\n",
       "      <td>4.338310</td>\n",
       "      <td>1.648080</td>\n",
       "      <td>4.699910</td>\n",
       "      <td>1.950250</td>\n",
       "      <td>...</td>\n",
       "      <td>-0.011036</td>\n",
       "      <td>2.030180</td>\n",
       "      <td>-0.000426</td>\n",
       "      <td>0.084091</td>\n",
       "      <td>0.123605</td>\n",
       "      <td>0.499554</td>\n",
       "      <td>4.054650</td>\n",
       "      <td>3.330670</td>\n",
       "      <td>0.108843</td>\n",
       "      <td>0.064687</td>\n",
       "    </tr>\n",
       "    <tr>\n",
       "      <th>3</th>\n",
       "      <td>600003</td>\n",
       "      <td>0.140556</td>\n",
       "      <td>3.085610</td>\n",
       "      <td>179.4510</td>\n",
       "      <td>0.573945</td>\n",
       "      <td>0.057342</td>\n",
       "      <td>2.216790</td>\n",
       "      <td>1.623480</td>\n",
       "      <td>0.526174</td>\n",
       "      <td>1.542540</td>\n",
       "      <td>...</td>\n",
       "      <td>0.050117</td>\n",
       "      <td>0.221613</td>\n",
       "      <td>0.045298</td>\n",
       "      <td>0.129966</td>\n",
       "      <td>0.004015</td>\n",
       "      <td>0.018279</td>\n",
       "      <td>2.696580</td>\n",
       "      <td>-0.533491</td>\n",
       "      <td>0.052524</td>\n",
       "      <td>0.011058</td>\n",
       "    </tr>\n",
       "    <tr>\n",
       "      <th>4</th>\n",
       "      <td>600004</td>\n",
       "      <td>0.128876</td>\n",
       "      <td>5.199760</td>\n",
       "      <td>107.4660</td>\n",
       "      <td>-0.497149</td>\n",
       "      <td>0.080220</td>\n",
       "      <td>0.458121</td>\n",
       "      <td>0.629839</td>\n",
       "      <td>5.240460</td>\n",
       "      <td>-0.232279</td>\n",
       "      <td>...</td>\n",
       "      <td>0.058860</td>\n",
       "      <td>2.660430</td>\n",
       "      <td>0.135425</td>\n",
       "      <td>0.036481</td>\n",
       "      <td>0.093912</td>\n",
       "      <td>0.056315</td>\n",
       "      <td>1.110710</td>\n",
       "      <td>3.584470</td>\n",
       "      <td>0.145319</td>\n",
       "      <td>-0.050393</td>\n",
       "    </tr>\n",
       "    <tr>\n",
       "      <th>...</th>\n",
       "      <td>...</td>\n",
       "      <td>...</td>\n",
       "      <td>...</td>\n",
       "      <td>...</td>\n",
       "      <td>...</td>\n",
       "      <td>...</td>\n",
       "      <td>...</td>\n",
       "      <td>...</td>\n",
       "      <td>...</td>\n",
       "      <td>...</td>\n",
       "      <td>...</td>\n",
       "      <td>...</td>\n",
       "      <td>...</td>\n",
       "      <td>...</td>\n",
       "      <td>...</td>\n",
       "      <td>...</td>\n",
       "      <td>...</td>\n",
       "      <td>...</td>\n",
       "      <td>...</td>\n",
       "      <td>...</td>\n",
       "      <td>...</td>\n",
       "    </tr>\n",
       "    <tr>\n",
       "      <th>539995</th>\n",
       "      <td>1139995</td>\n",
       "      <td>0.431599</td>\n",
       "      <td>1.507560</td>\n",
       "      <td>24.2698</td>\n",
       "      <td>2.928480</td>\n",
       "      <td>2.788830</td>\n",
       "      <td>5.152330</td>\n",
       "      <td>2.779980</td>\n",
       "      <td>0.816389</td>\n",
       "      <td>4.791560</td>\n",
       "      <td>...</td>\n",
       "      <td>0.083219</td>\n",
       "      <td>2.545860</td>\n",
       "      <td>0.132701</td>\n",
       "      <td>0.040109</td>\n",
       "      <td>0.121019</td>\n",
       "      <td>0.024841</td>\n",
       "      <td>3.182610</td>\n",
       "      <td>1.252730</td>\n",
       "      <td>0.059733</td>\n",
       "      <td>0.029033</td>\n",
       "    </tr>\n",
       "    <tr>\n",
       "      <th>539996</th>\n",
       "      <td>1139996</td>\n",
       "      <td>0.069713</td>\n",
       "      <td>2.355480</td>\n",
       "      <td>-128.7550</td>\n",
       "      <td>2.721580</td>\n",
       "      <td>1.256300</td>\n",
       "      <td>4.248220</td>\n",
       "      <td>2.014550</td>\n",
       "      <td>2.207120</td>\n",
       "      <td>3.020260</td>\n",
       "      <td>...</td>\n",
       "      <td>0.077851</td>\n",
       "      <td>4.019700</td>\n",
       "      <td>0.165319</td>\n",
       "      <td>0.065945</td>\n",
       "      <td>0.081351</td>\n",
       "      <td>-0.022179</td>\n",
       "      <td>4.512380</td>\n",
       "      <td>2.812880</td>\n",
       "      <td>0.016573</td>\n",
       "      <td>0.079498</td>\n",
       "    </tr>\n",
       "    <tr>\n",
       "      <th>539997</th>\n",
       "      <td>1139997</td>\n",
       "      <td>0.385075</td>\n",
       "      <td>2.528890</td>\n",
       "      <td>-63.9854</td>\n",
       "      <td>0.975396</td>\n",
       "      <td>0.043852</td>\n",
       "      <td>0.829423</td>\n",
       "      <td>2.014210</td>\n",
       "      <td>1.509500</td>\n",
       "      <td>2.027590</td>\n",
       "      <td>...</td>\n",
       "      <td>0.060691</td>\n",
       "      <td>3.604950</td>\n",
       "      <td>0.092720</td>\n",
       "      <td>0.067277</td>\n",
       "      <td>0.113736</td>\n",
       "      <td>0.132187</td>\n",
       "      <td>0.567747</td>\n",
       "      <td>-1.112850</td>\n",
       "      <td>0.776967</td>\n",
       "      <td>0.123728</td>\n",
       "    </tr>\n",
       "    <tr>\n",
       "      <th>539998</th>\n",
       "      <td>1139998</td>\n",
       "      <td>1.846240</td>\n",
       "      <td>3.415350</td>\n",
       "      <td>26.8476</td>\n",
       "      <td>-0.120134</td>\n",
       "      <td>0.027113</td>\n",
       "      <td>2.155160</td>\n",
       "      <td>2.529860</td>\n",
       "      <td>2.502250</td>\n",
       "      <td>3.453090</td>\n",
       "      <td>...</td>\n",
       "      <td>-0.012514</td>\n",
       "      <td>0.122062</td>\n",
       "      <td>0.099288</td>\n",
       "      <td>0.043613</td>\n",
       "      <td>0.013528</td>\n",
       "      <td>0.078044</td>\n",
       "      <td>-0.337694</td>\n",
       "      <td>0.436730</td>\n",
       "      <td>0.054561</td>\n",
       "      <td>0.082622</td>\n",
       "    </tr>\n",
       "    <tr>\n",
       "      <th>539999</th>\n",
       "      <td>1139999</td>\n",
       "      <td>0.475802</td>\n",
       "      <td>2.670740</td>\n",
       "      <td>389.7620</td>\n",
       "      <td>4.690200</td>\n",
       "      <td>0.069227</td>\n",
       "      <td>5.451320</td>\n",
       "      <td>0.861476</td>\n",
       "      <td>0.854981</td>\n",
       "      <td>5.315200</td>\n",
       "      <td>...</td>\n",
       "      <td>0.028472</td>\n",
       "      <td>2.054980</td>\n",
       "      <td>0.083090</td>\n",
       "      <td>0.115495</td>\n",
       "      <td>0.143097</td>\n",
       "      <td>0.055605</td>\n",
       "      <td>1.149700</td>\n",
       "      <td>0.289890</td>\n",
       "      <td>0.072163</td>\n",
       "      <td>0.102005</td>\n",
       "    </tr>\n",
       "  </tbody>\n",
       "</table>\n",
       "<p>540000 rows × 101 columns</p>\n",
       "</div>"
      ],
      "text/plain": [
       "             id        f0        f1        f2        f3        f4        f5  \\\n",
       "0        600000  0.003229  4.838660  585.5290  2.282910  0.713180  3.907830   \n",
       "1        600001  0.008602  0.505536 -100.0990  3.012670  0.027199  1.194610   \n",
       "2        600002  1.461000  2.437260 -112.9640  3.541230  0.752338  4.338310   \n",
       "3        600003  0.140556  3.085610  179.4510  0.573945  0.057342  2.216790   \n",
       "4        600004  0.128876  5.199760  107.4660 -0.497149  0.080220  0.458121   \n",
       "...         ...       ...       ...       ...       ...       ...       ...   \n",
       "539995  1139995  0.431599  1.507560   24.2698  2.928480  2.788830  5.152330   \n",
       "539996  1139996  0.069713  2.355480 -128.7550  2.721580  1.256300  4.248220   \n",
       "539997  1139997  0.385075  2.528890  -63.9854  0.975396  0.043852  0.829423   \n",
       "539998  1139998  1.846240  3.415350   26.8476 -0.120134  0.027113  2.155160   \n",
       "539999  1139999  0.475802  2.670740  389.7620  4.690200  0.069227  5.451320   \n",
       "\n",
       "              f6        f7        f8  ...       f90       f91       f92  \\\n",
       "0       0.480696  1.482270  4.891810  ...  0.112910  1.073550  0.122149   \n",
       "1       5.036620  2.517440  4.553890  ... -0.020214  2.622340  0.123307   \n",
       "2       1.648080  4.699910  1.950250  ... -0.011036  2.030180 -0.000426   \n",
       "3       1.623480  0.526174  1.542540  ...  0.050117  0.221613  0.045298   \n",
       "4       0.629839  5.240460 -0.232279  ...  0.058860  2.660430  0.135425   \n",
       "...          ...       ...       ...  ...       ...       ...       ...   \n",
       "539995  2.779980  0.816389  4.791560  ...  0.083219  2.545860  0.132701   \n",
       "539996  2.014550  2.207120  3.020260  ...  0.077851  4.019700  0.165319   \n",
       "539997  2.014210  1.509500  2.027590  ...  0.060691  3.604950  0.092720   \n",
       "539998  2.529860  2.502250  3.453090  ... -0.012514  0.122062  0.099288   \n",
       "539999  0.861476  0.854981  5.315200  ...  0.028472  2.054980  0.083090   \n",
       "\n",
       "             f93       f94       f95       f96       f97       f98       f99  \n",
       "0       0.086330  0.036010  0.010619  0.290343  1.898200  0.131533  0.012047  \n",
       "1       0.033063  0.123059  0.005771 -0.392923  3.689640  0.047418  0.120015  \n",
       "2       0.084091  0.123605  0.499554  4.054650  3.330670  0.108843  0.064687  \n",
       "3       0.129966  0.004015  0.018279  2.696580 -0.533491  0.052524  0.011058  \n",
       "4       0.036481  0.093912  0.056315  1.110710  3.584470  0.145319 -0.050393  \n",
       "...          ...       ...       ...       ...       ...       ...       ...  \n",
       "539995  0.040109  0.121019  0.024841  3.182610  1.252730  0.059733  0.029033  \n",
       "539996  0.065945  0.081351 -0.022179  4.512380  2.812880  0.016573  0.079498  \n",
       "539997  0.067277  0.113736  0.132187  0.567747 -1.112850  0.776967  0.123728  \n",
       "539998  0.043613  0.013528  0.078044 -0.337694  0.436730  0.054561  0.082622  \n",
       "539999  0.115495  0.143097  0.055605  1.149700  0.289890  0.072163  0.102005  \n",
       "\n",
       "[540000 rows x 101 columns]"
      ]
     },
     "execution_count": 5,
     "metadata": {},
     "output_type": "execute_result"
    }
   ],
   "source": [
    "test_data"
   ]
  },
  {
   "cell_type": "code",
   "execution_count": 6,
   "id": "1fd4f414",
   "metadata": {
    "execution": {
     "iopub.execute_input": "2021-11-30T21:15:27.827170Z",
     "iopub.status.busy": "2021-11-30T21:15:27.824466Z",
     "iopub.status.idle": "2021-11-30T21:15:27.829718Z",
     "shell.execute_reply": "2021-11-30T21:15:27.830114Z",
     "shell.execute_reply.started": "2021-11-30T20:32:35.600515Z"
    },
    "papermill": {
     "duration": 0.03733,
     "end_time": "2021-11-30T21:15:27.830239",
     "exception": false,
     "start_time": "2021-11-30T21:15:27.792909",
     "status": "completed"
    },
    "tags": []
   },
   "outputs": [
    {
     "data": {
      "text/html": [
       "<div>\n",
       "<style scoped>\n",
       "    .dataframe tbody tr th:only-of-type {\n",
       "        vertical-align: middle;\n",
       "    }\n",
       "\n",
       "    .dataframe tbody tr th {\n",
       "        vertical-align: top;\n",
       "    }\n",
       "\n",
       "    .dataframe thead th {\n",
       "        text-align: right;\n",
       "    }\n",
       "</style>\n",
       "<table border=\"1\" class=\"dataframe\">\n",
       "  <thead>\n",
       "    <tr style=\"text-align: right;\">\n",
       "      <th></th>\n",
       "      <th>id</th>\n",
       "      <th>f0</th>\n",
       "      <th>f1</th>\n",
       "      <th>f2</th>\n",
       "      <th>f3</th>\n",
       "      <th>f4</th>\n",
       "      <th>f5</th>\n",
       "      <th>f6</th>\n",
       "      <th>f7</th>\n",
       "      <th>f8</th>\n",
       "      <th>...</th>\n",
       "      <th>f90</th>\n",
       "      <th>f91</th>\n",
       "      <th>f92</th>\n",
       "      <th>f93</th>\n",
       "      <th>f94</th>\n",
       "      <th>f95</th>\n",
       "      <th>f96</th>\n",
       "      <th>f97</th>\n",
       "      <th>f98</th>\n",
       "      <th>f99</th>\n",
       "    </tr>\n",
       "  </thead>\n",
       "  <tbody>\n",
       "    <tr>\n",
       "      <th>0</th>\n",
       "      <td>600000</td>\n",
       "      <td>0.003229</td>\n",
       "      <td>4.838660</td>\n",
       "      <td>585.529</td>\n",
       "      <td>2.282910</td>\n",
       "      <td>0.713180</td>\n",
       "      <td>3.907830</td>\n",
       "      <td>0.480696</td>\n",
       "      <td>1.482270</td>\n",
       "      <td>4.891810</td>\n",
       "      <td>...</td>\n",
       "      <td>0.112910</td>\n",
       "      <td>1.073550</td>\n",
       "      <td>0.122149</td>\n",
       "      <td>0.086330</td>\n",
       "      <td>0.036010</td>\n",
       "      <td>0.010619</td>\n",
       "      <td>0.290343</td>\n",
       "      <td>1.898200</td>\n",
       "      <td>0.131533</td>\n",
       "      <td>0.012047</td>\n",
       "    </tr>\n",
       "    <tr>\n",
       "      <th>1</th>\n",
       "      <td>600001</td>\n",
       "      <td>0.008602</td>\n",
       "      <td>0.505536</td>\n",
       "      <td>-100.099</td>\n",
       "      <td>3.012670</td>\n",
       "      <td>0.027199</td>\n",
       "      <td>1.194610</td>\n",
       "      <td>5.036620</td>\n",
       "      <td>2.517440</td>\n",
       "      <td>4.553890</td>\n",
       "      <td>...</td>\n",
       "      <td>-0.020214</td>\n",
       "      <td>2.622340</td>\n",
       "      <td>0.123307</td>\n",
       "      <td>0.033063</td>\n",
       "      <td>0.123059</td>\n",
       "      <td>0.005771</td>\n",
       "      <td>-0.392923</td>\n",
       "      <td>3.689640</td>\n",
       "      <td>0.047418</td>\n",
       "      <td>0.120015</td>\n",
       "    </tr>\n",
       "    <tr>\n",
       "      <th>2</th>\n",
       "      <td>600002</td>\n",
       "      <td>1.461000</td>\n",
       "      <td>2.437260</td>\n",
       "      <td>-112.964</td>\n",
       "      <td>3.541230</td>\n",
       "      <td>0.752338</td>\n",
       "      <td>4.338310</td>\n",
       "      <td>1.648080</td>\n",
       "      <td>4.699910</td>\n",
       "      <td>1.950250</td>\n",
       "      <td>...</td>\n",
       "      <td>-0.011036</td>\n",
       "      <td>2.030180</td>\n",
       "      <td>-0.000426</td>\n",
       "      <td>0.084091</td>\n",
       "      <td>0.123605</td>\n",
       "      <td>0.499554</td>\n",
       "      <td>4.054650</td>\n",
       "      <td>3.330670</td>\n",
       "      <td>0.108843</td>\n",
       "      <td>0.064687</td>\n",
       "    </tr>\n",
       "    <tr>\n",
       "      <th>3</th>\n",
       "      <td>600003</td>\n",
       "      <td>0.140556</td>\n",
       "      <td>3.085610</td>\n",
       "      <td>179.451</td>\n",
       "      <td>0.573945</td>\n",
       "      <td>0.057342</td>\n",
       "      <td>2.216790</td>\n",
       "      <td>1.623480</td>\n",
       "      <td>0.526174</td>\n",
       "      <td>1.542540</td>\n",
       "      <td>...</td>\n",
       "      <td>0.050117</td>\n",
       "      <td>0.221613</td>\n",
       "      <td>0.045298</td>\n",
       "      <td>0.129966</td>\n",
       "      <td>0.004015</td>\n",
       "      <td>0.018279</td>\n",
       "      <td>2.696580</td>\n",
       "      <td>-0.533491</td>\n",
       "      <td>0.052524</td>\n",
       "      <td>0.011058</td>\n",
       "    </tr>\n",
       "    <tr>\n",
       "      <th>4</th>\n",
       "      <td>600004</td>\n",
       "      <td>0.128876</td>\n",
       "      <td>5.199760</td>\n",
       "      <td>107.466</td>\n",
       "      <td>-0.497149</td>\n",
       "      <td>0.080220</td>\n",
       "      <td>0.458121</td>\n",
       "      <td>0.629839</td>\n",
       "      <td>5.240460</td>\n",
       "      <td>-0.232279</td>\n",
       "      <td>...</td>\n",
       "      <td>0.058860</td>\n",
       "      <td>2.660430</td>\n",
       "      <td>0.135425</td>\n",
       "      <td>0.036481</td>\n",
       "      <td>0.093912</td>\n",
       "      <td>0.056315</td>\n",
       "      <td>1.110710</td>\n",
       "      <td>3.584470</td>\n",
       "      <td>0.145319</td>\n",
       "      <td>-0.050393</td>\n",
       "    </tr>\n",
       "  </tbody>\n",
       "</table>\n",
       "<p>5 rows × 101 columns</p>\n",
       "</div>"
      ],
      "text/plain": [
       "       id        f0        f1       f2        f3        f4        f5  \\\n",
       "0  600000  0.003229  4.838660  585.529  2.282910  0.713180  3.907830   \n",
       "1  600001  0.008602  0.505536 -100.099  3.012670  0.027199  1.194610   \n",
       "2  600002  1.461000  2.437260 -112.964  3.541230  0.752338  4.338310   \n",
       "3  600003  0.140556  3.085610  179.451  0.573945  0.057342  2.216790   \n",
       "4  600004  0.128876  5.199760  107.466 -0.497149  0.080220  0.458121   \n",
       "\n",
       "         f6        f7        f8  ...       f90       f91       f92       f93  \\\n",
       "0  0.480696  1.482270  4.891810  ...  0.112910  1.073550  0.122149  0.086330   \n",
       "1  5.036620  2.517440  4.553890  ... -0.020214  2.622340  0.123307  0.033063   \n",
       "2  1.648080  4.699910  1.950250  ... -0.011036  2.030180 -0.000426  0.084091   \n",
       "3  1.623480  0.526174  1.542540  ...  0.050117  0.221613  0.045298  0.129966   \n",
       "4  0.629839  5.240460 -0.232279  ...  0.058860  2.660430  0.135425  0.036481   \n",
       "\n",
       "        f94       f95       f96       f97       f98       f99  \n",
       "0  0.036010  0.010619  0.290343  1.898200  0.131533  0.012047  \n",
       "1  0.123059  0.005771 -0.392923  3.689640  0.047418  0.120015  \n",
       "2  0.123605  0.499554  4.054650  3.330670  0.108843  0.064687  \n",
       "3  0.004015  0.018279  2.696580 -0.533491  0.052524  0.011058  \n",
       "4  0.093912  0.056315  1.110710  3.584470  0.145319 -0.050393  \n",
       "\n",
       "[5 rows x 101 columns]"
      ]
     },
     "execution_count": 6,
     "metadata": {},
     "output_type": "execute_result"
    }
   ],
   "source": [
    "test_data.head()"
   ]
  },
  {
   "cell_type": "code",
   "execution_count": 7,
   "id": "734c4585",
   "metadata": {
    "execution": {
     "iopub.execute_input": "2021-11-30T21:15:28.124861Z",
     "iopub.status.busy": "2021-11-30T21:15:28.124062Z",
     "iopub.status.idle": "2021-11-30T21:15:28.125851Z",
     "shell.execute_reply": "2021-11-30T21:15:28.125385Z",
     "shell.execute_reply.started": "2021-11-30T20:32:35.627127Z"
    },
    "papermill": {
     "duration": 0.281149,
     "end_time": "2021-11-30T21:15:28.125973",
     "exception": false,
     "start_time": "2021-11-30T21:15:27.844824",
     "status": "completed"
    },
    "tags": []
   },
   "outputs": [],
   "source": [
    "x = train_data.iloc[:, 1:-1]\n",
    "y = train_data['target']\n",
    "x_test = test_data.iloc[:, 1:]\n",
    "y_test = sample_sub_data.iloc[:, 1]"
   ]
  },
  {
   "cell_type": "code",
   "execution_count": 8,
   "id": "6a496893",
   "metadata": {
    "execution": {
     "iopub.execute_input": "2021-11-30T21:15:28.306285Z",
     "iopub.status.busy": "2021-11-30T21:15:28.304946Z",
     "iopub.status.idle": "2021-11-30T21:15:28.777418Z",
     "shell.execute_reply": "2021-11-30T21:15:28.776915Z",
     "shell.execute_reply.started": "2021-11-30T20:32:35.899104Z"
    },
    "papermill": {
     "duration": 0.636764,
     "end_time": "2021-11-30T21:15:28.777545",
     "exception": false,
     "start_time": "2021-11-30T21:15:28.140781",
     "status": "completed"
    },
    "tags": []
   },
   "outputs": [],
   "source": [
    "x_train = pd.get_dummies(x)\n",
    "y_train = pd.get_dummies(y)\n",
    "x_test = pd.get_dummies(x_test)\n",
    "y_test = pd.get_dummies(y_test)"
   ]
  },
  {
   "cell_type": "code",
   "execution_count": 9,
   "id": "b5ea88e9",
   "metadata": {
    "execution": {
     "iopub.execute_input": "2021-11-30T21:15:28.816785Z",
     "iopub.status.busy": "2021-11-30T21:15:28.815597Z",
     "iopub.status.idle": "2021-11-30T21:15:28.819231Z",
     "shell.execute_reply": "2021-11-30T21:15:28.818786Z",
     "shell.execute_reply.started": "2021-11-30T20:32:36.523869Z"
    },
    "papermill": {
     "duration": 0.027344,
     "end_time": "2021-11-30T21:15:28.819363",
     "exception": false,
     "start_time": "2021-11-30T21:15:28.792019",
     "status": "completed"
    },
    "tags": []
   },
   "outputs": [
    {
     "data": {
      "text/html": [
       "<div>\n",
       "<style scoped>\n",
       "    .dataframe tbody tr th:only-of-type {\n",
       "        vertical-align: middle;\n",
       "    }\n",
       "\n",
       "    .dataframe tbody tr th {\n",
       "        vertical-align: top;\n",
       "    }\n",
       "\n",
       "    .dataframe thead th {\n",
       "        text-align: right;\n",
       "    }\n",
       "</style>\n",
       "<table border=\"1\" class=\"dataframe\">\n",
       "  <thead>\n",
       "    <tr style=\"text-align: right;\">\n",
       "      <th></th>\n",
       "      <th>0.5</th>\n",
       "    </tr>\n",
       "  </thead>\n",
       "  <tbody>\n",
       "    <tr>\n",
       "      <th>0</th>\n",
       "      <td>1</td>\n",
       "    </tr>\n",
       "    <tr>\n",
       "      <th>1</th>\n",
       "      <td>1</td>\n",
       "    </tr>\n",
       "    <tr>\n",
       "      <th>2</th>\n",
       "      <td>1</td>\n",
       "    </tr>\n",
       "    <tr>\n",
       "      <th>3</th>\n",
       "      <td>1</td>\n",
       "    </tr>\n",
       "    <tr>\n",
       "      <th>4</th>\n",
       "      <td>1</td>\n",
       "    </tr>\n",
       "    <tr>\n",
       "      <th>...</th>\n",
       "      <td>...</td>\n",
       "    </tr>\n",
       "    <tr>\n",
       "      <th>539995</th>\n",
       "      <td>1</td>\n",
       "    </tr>\n",
       "    <tr>\n",
       "      <th>539996</th>\n",
       "      <td>1</td>\n",
       "    </tr>\n",
       "    <tr>\n",
       "      <th>539997</th>\n",
       "      <td>1</td>\n",
       "    </tr>\n",
       "    <tr>\n",
       "      <th>539998</th>\n",
       "      <td>1</td>\n",
       "    </tr>\n",
       "    <tr>\n",
       "      <th>539999</th>\n",
       "      <td>1</td>\n",
       "    </tr>\n",
       "  </tbody>\n",
       "</table>\n",
       "<p>540000 rows × 1 columns</p>\n",
       "</div>"
      ],
      "text/plain": [
       "        0.5\n",
       "0         1\n",
       "1         1\n",
       "2         1\n",
       "3         1\n",
       "4         1\n",
       "...     ...\n",
       "539995    1\n",
       "539996    1\n",
       "539997    1\n",
       "539998    1\n",
       "539999    1\n",
       "\n",
       "[540000 rows x 1 columns]"
      ]
     },
     "execution_count": 9,
     "metadata": {},
     "output_type": "execute_result"
    }
   ],
   "source": [
    "y_test"
   ]
  },
  {
   "cell_type": "code",
   "execution_count": 10,
   "id": "91355b39",
   "metadata": {
    "execution": {
     "iopub.execute_input": "2021-11-30T21:15:28.853173Z",
     "iopub.status.busy": "2021-11-30T21:15:28.852298Z",
     "iopub.status.idle": "2021-11-30T21:15:29.636391Z",
     "shell.execute_reply": "2021-11-30T21:15:29.635838Z",
     "shell.execute_reply.started": "2021-11-30T20:32:36.536197Z"
    },
    "papermill": {
     "duration": 0.802682,
     "end_time": "2021-11-30T21:15:29.636517",
     "exception": false,
     "start_time": "2021-11-30T21:15:28.833835",
     "status": "completed"
    },
    "tags": []
   },
   "outputs": [
    {
     "name": "stdout",
     "output_type": "stream",
     "text": [
      "Series([], dtype: int64)\n"
     ]
    }
   ],
   "source": [
    "missing_val = x.isnull().sum()\n",
    "print(missing_val[missing_val > 0])\n",
    "\n",
    "from sklearn.model_selection import train_test_split \n",
    "\n",
    "x, x_val, y, y_val = train_test_split(x, y, train_size = 0.85, random_state = 0)"
   ]
  },
  {
   "cell_type": "markdown",
   "id": "259d10d7",
   "metadata": {
    "papermill": {
     "duration": 0.014648,
     "end_time": "2021-11-30T21:15:29.666498",
     "exception": false,
     "start_time": "2021-11-30T21:15:29.651850",
     "status": "completed"
    },
    "tags": []
   },
   "source": []
  },
  {
   "cell_type": "code",
   "execution_count": 11,
   "id": "7171de80",
   "metadata": {
    "execution": {
     "iopub.execute_input": "2021-11-30T21:15:29.703072Z",
     "iopub.status.busy": "2021-11-30T21:15:29.702499Z",
     "iopub.status.idle": "2021-11-30T21:15:36.138057Z",
     "shell.execute_reply": "2021-11-30T21:15:36.138480Z",
     "shell.execute_reply.started": "2021-11-30T20:32:37.34333Z"
    },
    "papermill": {
     "duration": 6.45737,
     "end_time": "2021-11-30T21:15:36.138638",
     "exception": false,
     "start_time": "2021-11-30T21:15:29.681268",
     "status": "completed"
    },
    "tags": []
   },
   "outputs": [
    {
     "name": "stderr",
     "output_type": "stream",
     "text": [
      "2021-11-30 21:15:34.127420: I tensorflow/stream_executor/cuda/cuda_gpu_executor.cc:937] successful NUMA node read from SysFS had negative value (-1), but there must be at least one NUMA node, so returning NUMA node zero\n",
      "2021-11-30 21:15:34.224017: I tensorflow/stream_executor/cuda/cuda_gpu_executor.cc:937] successful NUMA node read from SysFS had negative value (-1), but there must be at least one NUMA node, so returning NUMA node zero\n",
      "2021-11-30 21:15:34.224761: I tensorflow/stream_executor/cuda/cuda_gpu_executor.cc:937] successful NUMA node read from SysFS had negative value (-1), but there must be at least one NUMA node, so returning NUMA node zero\n",
      "2021-11-30 21:15:34.225881: I tensorflow/core/platform/cpu_feature_guard.cc:142] This TensorFlow binary is optimized with oneAPI Deep Neural Network Library (oneDNN) to use the following CPU instructions in performance-critical operations:  AVX2 AVX512F FMA\n",
      "To enable them in other operations, rebuild TensorFlow with the appropriate compiler flags.\n",
      "2021-11-30 21:15:34.226653: I tensorflow/stream_executor/cuda/cuda_gpu_executor.cc:937] successful NUMA node read from SysFS had negative value (-1), but there must be at least one NUMA node, so returning NUMA node zero\n",
      "2021-11-30 21:15:34.227319: I tensorflow/stream_executor/cuda/cuda_gpu_executor.cc:937] successful NUMA node read from SysFS had negative value (-1), but there must be at least one NUMA node, so returning NUMA node zero\n",
      "2021-11-30 21:15:34.227946: I tensorflow/stream_executor/cuda/cuda_gpu_executor.cc:937] successful NUMA node read from SysFS had negative value (-1), but there must be at least one NUMA node, so returning NUMA node zero\n",
      "2021-11-30 21:15:35.826074: I tensorflow/stream_executor/cuda/cuda_gpu_executor.cc:937] successful NUMA node read from SysFS had negative value (-1), but there must be at least one NUMA node, so returning NUMA node zero\n",
      "2021-11-30 21:15:35.826967: I tensorflow/stream_executor/cuda/cuda_gpu_executor.cc:937] successful NUMA node read from SysFS had negative value (-1), but there must be at least one NUMA node, so returning NUMA node zero\n",
      "2021-11-30 21:15:35.827630: I tensorflow/stream_executor/cuda/cuda_gpu_executor.cc:937] successful NUMA node read from SysFS had negative value (-1), but there must be at least one NUMA node, so returning NUMA node zero\n",
      "2021-11-30 21:15:35.828211: I tensorflow/core/common_runtime/gpu/gpu_device.cc:1510] Created device /job:localhost/replica:0/task:0/device:GPU:0 with 15403 MB memory:  -> device: 0, name: Tesla P100-PCIE-16GB, pci bus id: 0000:00:04.0, compute capability: 6.0\n"
     ]
    }
   ],
   "source": [
    "import keras \n",
    "from tensorflow.keras import layers \n",
    "from tensorflow.keras.callbacks import EarlyStopping, ReduceLROnPlateau\n",
    "\n",
    "model = keras.Sequential([ \n",
    "    layers.BatchNormalization(),\n",
    "    layers.Dense(2048, activation='sigmoid', input_shape=[101]),\n",
    "    layers.Dropout(rate = 0.3), \n",
    "    layers.BatchNormalization(),    \n",
    "    layers.Dense(2048, activation='sigmoid'), \n",
    "    layers.Dropout(rate = 0.3), \n",
    "    layers.BatchNormalization(),\n",
    "    layers.Dense(2048, activation='sigmoid'), \n",
    "    layers.Dropout(rate = 0.3), \n",
    "    layers.Dense(1, activation = 'sigmoid'), \n",
    "]) \n",
    "\n",
    "early_stopping = EarlyStopping(min_delta = 0.001, patience = 10, restore_best_weights = True)\n",
    "reducedlr = ReduceLROnPlateau(monitor='val_loss', factor=0.2, patience=5, min_lr=0.001)"
   ]
  },
  {
   "cell_type": "code",
   "execution_count": 12,
   "id": "6e46df41",
   "metadata": {
    "execution": {
     "iopub.execute_input": "2021-11-30T21:15:36.180039Z",
     "iopub.status.busy": "2021-11-30T21:15:36.177027Z",
     "iopub.status.idle": "2021-11-30T21:15:36.188914Z",
     "shell.execute_reply": "2021-11-30T21:15:36.188511Z",
     "shell.execute_reply.started": "2021-11-30T20:38:21.249402Z"
    },
    "papermill": {
     "duration": 0.034499,
     "end_time": "2021-11-30T21:15:36.189022",
     "exception": false,
     "start_time": "2021-11-30T21:15:36.154523",
     "status": "completed"
    },
    "tags": []
   },
   "outputs": [],
   "source": [
    "model.compile( \n",
    "    optimizer='adamax', \n",
    "    loss='binary_crossentropy', \n",
    "    metrics=['AUC'],\n",
    "    )"
   ]
  },
  {
   "cell_type": "code",
   "execution_count": 13,
   "id": "780dc97f",
   "metadata": {
    "execution": {
     "iopub.execute_input": "2021-11-30T21:15:36.224707Z",
     "iopub.status.busy": "2021-11-30T21:15:36.223988Z",
     "iopub.status.idle": "2021-11-30T21:18:41.547074Z",
     "shell.execute_reply": "2021-11-30T21:18:41.547766Z",
     "shell.execute_reply.started": "2021-11-30T20:38:36.352596Z"
    },
    "papermill": {
     "duration": 185.342926,
     "end_time": "2021-11-30T21:18:41.547986",
     "exception": false,
     "start_time": "2021-11-30T21:15:36.205060",
     "status": "completed"
    },
    "tags": []
   },
   "outputs": [
    {
     "name": "stderr",
     "output_type": "stream",
     "text": [
      "2021-11-30 21:15:37.193406: I tensorflow/compiler/mlir/mlir_graph_optimization_pass.cc:185] None of the MLIR Optimization Passes are enabled (registered 2)\n"
     ]
    },
    {
     "name": "stdout",
     "output_type": "stream",
     "text": [
      "Epoch 1/100\n",
      "1993/1993 - 15s - loss: 0.6202 - auc: 0.7205 - val_loss: 0.5776 - val_auc: 0.7500\n",
      "Epoch 2/100\n",
      "1993/1993 - 12s - loss: 0.5857 - auc: 0.7422 - val_loss: 0.5733 - val_auc: 0.7540\n",
      "Epoch 3/100\n",
      "1993/1993 - 12s - loss: 0.5836 - auc: 0.7434 - val_loss: 0.5702 - val_auc: 0.7551\n",
      "Epoch 4/100\n",
      "1993/1993 - 12s - loss: 0.5825 - auc: 0.7449 - val_loss: 0.5704 - val_auc: 0.7546\n",
      "Epoch 5/100\n",
      "1993/1993 - 12s - loss: 0.5822 - auc: 0.7451 - val_loss: 0.5690 - val_auc: 0.7568\n",
      "Epoch 6/100\n",
      "1993/1993 - 12s - loss: 0.5813 - auc: 0.7455 - val_loss: 0.5735 - val_auc: 0.7558\n",
      "Epoch 7/100\n",
      "1993/1993 - 12s - loss: 0.5810 - auc: 0.7464 - val_loss: 0.5720 - val_auc: 0.7561\n",
      "Epoch 8/100\n",
      "1993/1993 - 12s - loss: 0.5810 - auc: 0.7469 - val_loss: 0.5750 - val_auc: 0.7563\n",
      "Epoch 9/100\n",
      "1993/1993 - 12s - loss: 0.5802 - auc: 0.7470 - val_loss: 0.5691 - val_auc: 0.7562\n",
      "Epoch 10/100\n",
      "1993/1993 - 12s - loss: 0.5796 - auc: 0.7469 - val_loss: 0.5685 - val_auc: 0.7565\n",
      "Epoch 11/100\n",
      "1993/1993 - 12s - loss: 0.5789 - auc: 0.7480 - val_loss: 0.5689 - val_auc: 0.7567\n",
      "Epoch 12/100\n",
      "1993/1993 - 12s - loss: 0.5783 - auc: 0.7488 - val_loss: 0.5688 - val_auc: 0.7567\n",
      "Epoch 13/100\n",
      "1993/1993 - 12s - loss: 0.5784 - auc: 0.7485 - val_loss: 0.5700 - val_auc: 0.7559\n",
      "Epoch 14/100\n",
      "1993/1993 - 12s - loss: 0.5783 - auc: 0.7485 - val_loss: 0.5688 - val_auc: 0.7567\n",
      "Epoch 15/100\n",
      "1993/1993 - 12s - loss: 0.5775 - auc: 0.7501 - val_loss: 0.5689 - val_auc: 0.7571\n"
     ]
    }
   ],
   "source": [
    "prediction = model.fit( \n",
    "    x, y, \n",
    "    validation_data=(x_val, y_val), \n",
    "    batch_size=256, \n",
    "    epochs=100, \n",
    "    callbacks = [\n",
    "                early_stopping,reducedlr], \n",
    "    verbose = 2, \n",
    ")"
   ]
  },
  {
   "cell_type": "markdown",
   "id": "159785f9",
   "metadata": {
    "papermill": {
     "duration": 0.037704,
     "end_time": "2021-11-30T21:18:41.623534",
     "exception": false,
     "start_time": "2021-11-30T21:18:41.585830",
     "status": "completed"
    },
    "tags": []
   },
   "source": []
  },
  {
   "cell_type": "markdown",
   "id": "b20ad79c",
   "metadata": {
    "papermill": {
     "duration": 0.037665,
     "end_time": "2021-11-30T21:18:41.698922",
     "exception": false,
     "start_time": "2021-11-30T21:18:41.661257",
     "status": "completed"
    },
    "tags": []
   },
   "source": []
  },
  {
   "cell_type": "markdown",
   "id": "e3eb7bbf",
   "metadata": {
    "papermill": {
     "duration": 0.037061,
     "end_time": "2021-11-30T21:18:41.773604",
     "exception": false,
     "start_time": "2021-11-30T21:18:41.736543",
     "status": "completed"
    },
    "tags": []
   },
   "source": []
  },
  {
   "cell_type": "code",
   "execution_count": 14,
   "id": "b62257a7",
   "metadata": {
    "execution": {
     "iopub.execute_input": "2021-11-30T21:18:41.857010Z",
     "iopub.status.busy": "2021-11-30T21:18:41.856253Z",
     "iopub.status.idle": "2021-11-30T21:19:21.962538Z",
     "shell.execute_reply": "2021-11-30T21:19:21.962011Z",
     "shell.execute_reply.started": "2021-11-30T20:38:17.322775Z"
    },
    "papermill": {
     "duration": 40.15155,
     "end_time": "2021-11-30T21:19:21.962701",
     "exception": false,
     "start_time": "2021-11-30T21:18:41.811151",
     "status": "completed"
    },
    "tags": []
   },
   "outputs": [],
   "source": [
    "preds_test = model.predict(x_test)"
   ]
  },
  {
   "cell_type": "code",
   "execution_count": 15,
   "id": "a52a0c0c",
   "metadata": {
    "execution": {
     "iopub.execute_input": "2021-11-30T21:19:22.014326Z",
     "iopub.status.busy": "2021-11-30T21:19:22.013579Z",
     "iopub.status.idle": "2021-11-30T21:19:23.380192Z",
     "shell.execute_reply": "2021-11-30T21:19:23.379406Z",
     "shell.execute_reply.started": "2021-11-30T20:38:17.324576Z"
    },
    "papermill": {
     "duration": 1.394113,
     "end_time": "2021-11-30T21:19:23.380377",
     "exception": false,
     "start_time": "2021-11-30T21:19:21.986264",
     "status": "completed"
    },
    "tags": []
   },
   "outputs": [],
   "source": [
    "sample_sub_data['target'] = np.mean(preds_test, axis = 1) \n",
    "sample_sub_data.to_csv('submission.csv', index=False)"
   ]
  }
 ],
 "metadata": {
  "kernelspec": {
   "display_name": "Python 3",
   "language": "python",
   "name": "python3"
  },
  "language_info": {
   "codemirror_mode": {
    "name": "ipython",
    "version": 3
   },
   "file_extension": ".py",
   "mimetype": "text/x-python",
   "name": "python",
   "nbconvert_exporter": "python",
   "pygments_lexer": "ipython3",
   "version": "3.7.10"
  },
  "papermill": {
   "default_parameters": {},
   "duration": 273.609201,
   "end_time": "2021-11-30T21:19:26.306484",
   "environment_variables": {},
   "exception": null,
   "input_path": "__notebook__.ipynb",
   "output_path": "__notebook__.ipynb",
   "parameters": {},
   "start_time": "2021-11-30T21:14:52.697283",
   "version": "2.3.3"
  }
 },
 "nbformat": 4,
 "nbformat_minor": 5
}
